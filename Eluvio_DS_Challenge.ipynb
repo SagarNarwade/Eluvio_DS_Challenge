{
  "nbformat": 4,
  "nbformat_minor": 0,
  "metadata": {
    "colab": {
      "name": "Untitled19.ipynb",
      "provenance": [],
      "collapsed_sections": []
    },
    "kernelspec": {
      "display_name": "Python 3",
      "name": "python3"
    },
    "language_info": {
      "name": "python"
    }
  },
  "cells": [
    {
      "cell_type": "markdown",
      "metadata": {
        "id": "NbsegR-eGZBS"
      },
      "source": [
        "#Google Drive Connection To Load CSV From Drive"
      ]
    },
    {
      "cell_type": "code",
      "metadata": {
        "colab": {
          "base_uri": "https://localhost:8080/"
        },
        "id": "b9v4xFpB8J0z",
        "outputId": "745150f5-4f3e-4d69-fa4a-3cd8ddd47f60"
      },
      "source": [
        "from google.colab import drive\n",
        "\n",
        "\n",
        "drive.mount('/content/gdrive')"
      ],
      "execution_count": 302,
      "outputs": [
        {
          "output_type": "stream",
          "text": [
            "Drive already mounted at /content/gdrive; to attempt to forcibly remount, call drive.mount(\"/content/gdrive\", force_remount=True).\n"
          ],
          "name": "stdout"
        }
      ]
    },
    {
      "cell_type": "markdown",
      "metadata": {
        "id": "h4fJDRBeGfvN"
      },
      "source": [
        "#Import Required Libraries"
      ]
    },
    {
      "cell_type": "code",
      "metadata": {
        "id": "a1daAXSY9K62",
        "colab": {
          "base_uri": "https://localhost:8080/"
        },
        "outputId": "e0203d47-0efd-4804-f325-a1b640f3452d"
      },
      "source": [
        "import numpy as np\n",
        "import pandas as pd\n",
        "import matplotlib.pyplot as plt\n",
        "import seaborn as sns\n",
        "import string\n",
        "sns.set_style('white')\n",
        "%matplotlib inline\n",
        "import plotly.express as px\n",
        "import random\n",
        "from sklearn.metrics import classification_report, confusion_matrix\n",
        "from sklearn.naive_bayes import MultinomialNB\n",
        "from sklearn.feature_extraction.text import TfidfTransformer\n",
        "from sklearn.feature_extraction.text import CountVectorizer\n",
        "\n",
        "from nltk.corpus import stopwords\n",
        "import nltk \n",
        "nltk.download_shell()"
      ],
      "execution_count": 332,
      "outputs": [
        {
          "output_type": "stream",
          "text": [
            "NLTK Downloader\n",
            "---------------------------------------------------------------------------\n",
            "    d) Download   l) List    u) Update   c) Config   h) Help   q) Quit\n",
            "---------------------------------------------------------------------------\n",
            "Downloader> q\n"
          ],
          "name": "stdout"
        }
      ]
    },
    {
      "cell_type": "markdown",
      "metadata": {
        "id": "pOSz96vTHXqh"
      },
      "source": [
        "#Load Dataset"
      ]
    },
    {
      "cell_type": "code",
      "metadata": {
        "id": "jc3Nc6if9LZV"
      },
      "source": [
        "df1 = pd.read_csv('/content/gdrive/MyDrive/Internship_Task/Eluvio_DS_Challenge.csv',sep=',')"
      ],
      "execution_count": 304,
      "outputs": []
    },
    {
      "cell_type": "markdown",
      "metadata": {
        "id": "1eG93m92HVCi"
      },
      "source": [
        "#Data Preprocessing"
      ]
    },
    {
      "cell_type": "code",
      "metadata": {
        "id": "Hlchpz0MWxMD"
      },
      "source": [
        "df1 = df1.sort_values('date_created')"
      ],
      "execution_count": 305,
      "outputs": []
    },
    {
      "cell_type": "code",
      "metadata": {
        "colab": {
          "base_uri": "https://localhost:8080/",
          "height": 204
        },
        "id": "o2zxL6Go9qCY",
        "outputId": "a06e2d12-25bf-4329-cf05-d03f79c032d9"
      },
      "source": [
        "df1.head()"
      ],
      "execution_count": 306,
      "outputs": [
        {
          "output_type": "execute_result",
          "data": {
            "text/html": [
              "<div>\n",
              "<style scoped>\n",
              "    .dataframe tbody tr th:only-of-type {\n",
              "        vertical-align: middle;\n",
              "    }\n",
              "\n",
              "    .dataframe tbody tr th {\n",
              "        vertical-align: top;\n",
              "    }\n",
              "\n",
              "    .dataframe thead th {\n",
              "        text-align: right;\n",
              "    }\n",
              "</style>\n",
              "<table border=\"1\" class=\"dataframe\">\n",
              "  <thead>\n",
              "    <tr style=\"text-align: right;\">\n",
              "      <th></th>\n",
              "      <th>time_created</th>\n",
              "      <th>date_created</th>\n",
              "      <th>up_votes</th>\n",
              "      <th>down_votes</th>\n",
              "      <th>title</th>\n",
              "      <th>over_18</th>\n",
              "      <th>author</th>\n",
              "      <th>category</th>\n",
              "    </tr>\n",
              "  </thead>\n",
              "  <tbody>\n",
              "    <tr>\n",
              "      <th>0</th>\n",
              "      <td>1201232046</td>\n",
              "      <td>2008-01-25</td>\n",
              "      <td>3</td>\n",
              "      <td>0</td>\n",
              "      <td>Scores killed in Pakistan clashes</td>\n",
              "      <td>False</td>\n",
              "      <td>polar</td>\n",
              "      <td>worldnews</td>\n",
              "    </tr>\n",
              "    <tr>\n",
              "      <th>1</th>\n",
              "      <td>1201232075</td>\n",
              "      <td>2008-01-25</td>\n",
              "      <td>2</td>\n",
              "      <td>0</td>\n",
              "      <td>Japan resumes refuelling mission</td>\n",
              "      <td>False</td>\n",
              "      <td>polar</td>\n",
              "      <td>worldnews</td>\n",
              "    </tr>\n",
              "    <tr>\n",
              "      <th>2</th>\n",
              "      <td>1201232523</td>\n",
              "      <td>2008-01-25</td>\n",
              "      <td>3</td>\n",
              "      <td>0</td>\n",
              "      <td>US presses Egypt on Gaza border</td>\n",
              "      <td>False</td>\n",
              "      <td>polar</td>\n",
              "      <td>worldnews</td>\n",
              "    </tr>\n",
              "    <tr>\n",
              "      <th>3</th>\n",
              "      <td>1201233290</td>\n",
              "      <td>2008-01-25</td>\n",
              "      <td>1</td>\n",
              "      <td>0</td>\n",
              "      <td>Jump-start economy: Give health care to all</td>\n",
              "      <td>False</td>\n",
              "      <td>fadi420</td>\n",
              "      <td>worldnews</td>\n",
              "    </tr>\n",
              "    <tr>\n",
              "      <th>4</th>\n",
              "      <td>1201274720</td>\n",
              "      <td>2008-01-25</td>\n",
              "      <td>4</td>\n",
              "      <td>0</td>\n",
              "      <td>Council of Europe bashes EU&amp;UN terror blacklist</td>\n",
              "      <td>False</td>\n",
              "      <td>mhermans</td>\n",
              "      <td>worldnews</td>\n",
              "    </tr>\n",
              "  </tbody>\n",
              "</table>\n",
              "</div>"
            ],
            "text/plain": [
              "   time_created date_created  up_votes  ...  over_18    author   category\n",
              "0    1201232046   2008-01-25         3  ...    False     polar  worldnews\n",
              "1    1201232075   2008-01-25         2  ...    False     polar  worldnews\n",
              "2    1201232523   2008-01-25         3  ...    False     polar  worldnews\n",
              "3    1201233290   2008-01-25         1  ...    False   fadi420  worldnews\n",
              "4    1201274720   2008-01-25         4  ...    False  mhermans  worldnews\n",
              "\n",
              "[5 rows x 8 columns]"
            ]
          },
          "metadata": {
            "tags": []
          },
          "execution_count": 306
        }
      ]
    },
    {
      "cell_type": "code",
      "metadata": {
        "id": "w8GgDGyyDHHZ"
      },
      "source": [
        "#removing columns 'category' and 'down_votes' because values are constant or same for all records\n",
        "df1 = df1.drop(['category','down_votes'],axis=1)"
      ],
      "execution_count": 307,
      "outputs": []
    },
    {
      "cell_type": "code",
      "metadata": {
        "colab": {
          "base_uri": "https://localhost:8080/",
          "height": 419
        },
        "id": "Sd3RFxG_HpXk",
        "outputId": "a33c43a0-f65a-4175-a778-5b85e51712e7"
      },
      "source": [
        "df1[df1['over_18']==True]"
      ],
      "execution_count": 308,
      "outputs": [
        {
          "output_type": "execute_result",
          "data": {
            "text/html": [
              "<div>\n",
              "<style scoped>\n",
              "    .dataframe tbody tr th:only-of-type {\n",
              "        vertical-align: middle;\n",
              "    }\n",
              "\n",
              "    .dataframe tbody tr th {\n",
              "        vertical-align: top;\n",
              "    }\n",
              "\n",
              "    .dataframe thead th {\n",
              "        text-align: right;\n",
              "    }\n",
              "</style>\n",
              "<table border=\"1\" class=\"dataframe\">\n",
              "  <thead>\n",
              "    <tr style=\"text-align: right;\">\n",
              "      <th></th>\n",
              "      <th>time_created</th>\n",
              "      <th>date_created</th>\n",
              "      <th>up_votes</th>\n",
              "      <th>title</th>\n",
              "      <th>over_18</th>\n",
              "      <th>author</th>\n",
              "    </tr>\n",
              "  </thead>\n",
              "  <tbody>\n",
              "    <tr>\n",
              "      <th>1885</th>\n",
              "      <td>1206381438</td>\n",
              "      <td>2008-03-24</td>\n",
              "      <td>189</td>\n",
              "      <td>Pics from the Tibetan protests - more graphic ...</td>\n",
              "      <td>True</td>\n",
              "      <td>pressed</td>\n",
              "    </tr>\n",
              "    <tr>\n",
              "      <th>6721</th>\n",
              "      <td>1211138718</td>\n",
              "      <td>2008-05-18</td>\n",
              "      <td>5</td>\n",
              "      <td>MI5 linked to Max Mosley’s Nazi-style, sadomas...</td>\n",
              "      <td>True</td>\n",
              "      <td>alllie</td>\n",
              "    </tr>\n",
              "    <tr>\n",
              "      <th>8414</th>\n",
              "      <td>1212694925</td>\n",
              "      <td>2008-06-05</td>\n",
              "      <td>0</td>\n",
              "      <td>Tabloid Horrifies Germany: Poland s Yellow Pre...</td>\n",
              "      <td>True</td>\n",
              "      <td>stesch</td>\n",
              "    </tr>\n",
              "    <tr>\n",
              "      <th>12163</th>\n",
              "      <td>1216672016</td>\n",
              "      <td>2008-07-21</td>\n",
              "      <td>0</td>\n",
              "      <td>Love Parade Dortmund: Techno Festival Breaks R...</td>\n",
              "      <td>True</td>\n",
              "      <td>stesch</td>\n",
              "    </tr>\n",
              "    <tr>\n",
              "      <th>12699</th>\n",
              "      <td>1217381380</td>\n",
              "      <td>2008-07-30</td>\n",
              "      <td>5</td>\n",
              "      <td>IDF kills young Palestinian boy. Potentially N...</td>\n",
              "      <td>True</td>\n",
              "      <td>cup</td>\n",
              "    </tr>\n",
              "    <tr>\n",
              "      <th>...</th>\n",
              "      <td>...</td>\n",
              "      <td>...</td>\n",
              "      <td>...</td>\n",
              "      <td>...</td>\n",
              "      <td>...</td>\n",
              "      <td>...</td>\n",
              "    </tr>\n",
              "    <tr>\n",
              "      <th>503776</th>\n",
              "      <td>1477889966</td>\n",
              "      <td>2016-10-31</td>\n",
              "      <td>4</td>\n",
              "      <td>Latest Italian Earthquake Devastates Medieval ...</td>\n",
              "      <td>True</td>\n",
              "      <td>pixelinthe</td>\n",
              "    </tr>\n",
              "    <tr>\n",
              "      <th>508067</th>\n",
              "      <td>1479400229</td>\n",
              "      <td>2016-11-17</td>\n",
              "      <td>12</td>\n",
              "      <td>ISIS Release Video Showing Melbourne As A Poss...</td>\n",
              "      <td>True</td>\n",
              "      <td>halacska</td>\n",
              "    </tr>\n",
              "    <tr>\n",
              "      <th>508376</th>\n",
              "      <td>1479492875</td>\n",
              "      <td>2016-11-18</td>\n",
              "      <td>6</td>\n",
              "      <td>Jungle Justice : Public lynching of a street ...</td>\n",
              "      <td>True</td>\n",
              "      <td>avivi_</td>\n",
              "    </tr>\n",
              "    <tr>\n",
              "      <th>508176</th>\n",
              "      <td>1479434681</td>\n",
              "      <td>2016-11-18</td>\n",
              "      <td>0</td>\n",
              "      <td>Animal welfare activists have released footage...</td>\n",
              "      <td>True</td>\n",
              "      <td>NinjaDiscoJesus</td>\n",
              "    </tr>\n",
              "    <tr>\n",
              "      <th>508706</th>\n",
              "      <td>1479641575</td>\n",
              "      <td>2016-11-20</td>\n",
              "      <td>0</td>\n",
              "      <td>[NSFW] Teenage boy run over by  Iraqi army tan...</td>\n",
              "      <td>True</td>\n",
              "      <td>atyzer</td>\n",
              "    </tr>\n",
              "  </tbody>\n",
              "</table>\n",
              "<p>320 rows × 6 columns</p>\n",
              "</div>"
            ],
            "text/plain": [
              "        time_created date_created  ...  over_18           author\n",
              "1885      1206381438   2008-03-24  ...     True          pressed\n",
              "6721      1211138718   2008-05-18  ...     True           alllie\n",
              "8414      1212694925   2008-06-05  ...     True           stesch\n",
              "12163     1216672016   2008-07-21  ...     True           stesch\n",
              "12699     1217381380   2008-07-30  ...     True              cup\n",
              "...              ...          ...  ...      ...              ...\n",
              "503776    1477889966   2016-10-31  ...     True       pixelinthe\n",
              "508067    1479400229   2016-11-17  ...     True         halacska\n",
              "508376    1479492875   2016-11-18  ...     True           avivi_\n",
              "508176    1479434681   2016-11-18  ...     True  NinjaDiscoJesus\n",
              "508706    1479641575   2016-11-20  ...     True           atyzer\n",
              "\n",
              "[320 rows x 6 columns]"
            ]
          },
          "metadata": {
            "tags": []
          },
          "execution_count": 308
        }
      ]
    },
    {
      "cell_type": "code",
      "metadata": {
        "id": "LbsKB2BtHzEC"
      },
      "source": [
        "#removing columns 'over_18', it contains boolean value 'True' & 'False' from that there are only 320 records which is true, which means distribution of data is not soo good to predict over_18\n",
        "df1 = df1.drop(['over_18'],axis=1)"
      ],
      "execution_count": 309,
      "outputs": []
    },
    {
      "cell_type": "code",
      "metadata": {
        "colab": {
          "base_uri": "https://localhost:8080/"
        },
        "id": "QP6CPIIRtexQ",
        "outputId": "b34f3181-0ac3-4279-870c-057e2adbfb15"
      },
      "source": [
        "#dividing 'up_votes' values in 5 different category \n",
        "df1['up_votes'][(df1['up_votes'] >= 0) & (df1['up_votes'] <= 5)] = 1\n",
        "df1['up_votes'][(df1['up_votes'] >= 6) & (df1['up_votes'] <= 20)] = 2\n",
        "df1['up_votes'][(df1['up_votes'] >= 21) & (df1['up_votes'] <= 50)] = 3\n",
        "df1['up_votes'][(df1['up_votes'] >= 51) & (df1['up_votes'] <= 200)] = 4\n",
        "df1['up_votes'][(df1['up_votes'] >= 201)] = 5\n"
      ],
      "execution_count": 310,
      "outputs": [
        {
          "output_type": "stream",
          "text": [
            "/usr/local/lib/python3.7/dist-packages/ipykernel_launcher.py:2: SettingWithCopyWarning:\n",
            "\n",
            "\n",
            "A value is trying to be set on a copy of a slice from a DataFrame\n",
            "\n",
            "See the caveats in the documentation: https://pandas.pydata.org/pandas-docs/stable/user_guide/indexing.html#returning-a-view-versus-a-copy\n",
            "\n",
            "/usr/local/lib/python3.7/dist-packages/ipykernel_launcher.py:3: SettingWithCopyWarning:\n",
            "\n",
            "\n",
            "A value is trying to be set on a copy of a slice from a DataFrame\n",
            "\n",
            "See the caveats in the documentation: https://pandas.pydata.org/pandas-docs/stable/user_guide/indexing.html#returning-a-view-versus-a-copy\n",
            "\n",
            "/usr/local/lib/python3.7/dist-packages/ipykernel_launcher.py:4: SettingWithCopyWarning:\n",
            "\n",
            "\n",
            "A value is trying to be set on a copy of a slice from a DataFrame\n",
            "\n",
            "See the caveats in the documentation: https://pandas.pydata.org/pandas-docs/stable/user_guide/indexing.html#returning-a-view-versus-a-copy\n",
            "\n",
            "/usr/local/lib/python3.7/dist-packages/ipykernel_launcher.py:5: SettingWithCopyWarning:\n",
            "\n",
            "\n",
            "A value is trying to be set on a copy of a slice from a DataFrame\n",
            "\n",
            "See the caveats in the documentation: https://pandas.pydata.org/pandas-docs/stable/user_guide/indexing.html#returning-a-view-versus-a-copy\n",
            "\n",
            "/usr/local/lib/python3.7/dist-packages/ipykernel_launcher.py:6: SettingWithCopyWarning:\n",
            "\n",
            "\n",
            "A value is trying to be set on a copy of a slice from a DataFrame\n",
            "\n",
            "See the caveats in the documentation: https://pandas.pydata.org/pandas-docs/stable/user_guide/indexing.html#returning-a-view-versus-a-copy\n",
            "\n"
          ],
          "name": "stderr"
        }
      ]
    },
    {
      "cell_type": "code",
      "metadata": {
        "colab": {
          "base_uri": "https://localhost:8080/",
          "height": 235
        },
        "id": "eSMnCCqfYf6E",
        "outputId": "8edb5aa2-72ae-436e-f3cd-5c8ba2a6ae09"
      },
      "source": [
        "#Number of records for each rating\n",
        "df1.groupby('up_votes').count()"
      ],
      "execution_count": 311,
      "outputs": [
        {
          "output_type": "execute_result",
          "data": {
            "text/html": [
              "<div>\n",
              "<style scoped>\n",
              "    .dataframe tbody tr th:only-of-type {\n",
              "        vertical-align: middle;\n",
              "    }\n",
              "\n",
              "    .dataframe tbody tr th {\n",
              "        vertical-align: top;\n",
              "    }\n",
              "\n",
              "    .dataframe thead th {\n",
              "        text-align: right;\n",
              "    }\n",
              "</style>\n",
              "<table border=\"1\" class=\"dataframe\">\n",
              "  <thead>\n",
              "    <tr style=\"text-align: right;\">\n",
              "      <th></th>\n",
              "      <th>time_created</th>\n",
              "      <th>date_created</th>\n",
              "      <th>title</th>\n",
              "      <th>author</th>\n",
              "    </tr>\n",
              "    <tr>\n",
              "      <th>up_votes</th>\n",
              "      <th></th>\n",
              "      <th></th>\n",
              "      <th></th>\n",
              "      <th></th>\n",
              "    </tr>\n",
              "  </thead>\n",
              "  <tbody>\n",
              "    <tr>\n",
              "      <th>1</th>\n",
              "      <td>275854</td>\n",
              "      <td>275854</td>\n",
              "      <td>275854</td>\n",
              "      <td>275854</td>\n",
              "    </tr>\n",
              "    <tr>\n",
              "      <th>2</th>\n",
              "      <td>123484</td>\n",
              "      <td>123484</td>\n",
              "      <td>123484</td>\n",
              "      <td>123484</td>\n",
              "    </tr>\n",
              "    <tr>\n",
              "      <th>3</th>\n",
              "      <td>40863</td>\n",
              "      <td>40863</td>\n",
              "      <td>40863</td>\n",
              "      <td>40863</td>\n",
              "    </tr>\n",
              "    <tr>\n",
              "      <th>4</th>\n",
              "      <td>31855</td>\n",
              "      <td>31855</td>\n",
              "      <td>31855</td>\n",
              "      <td>31855</td>\n",
              "    </tr>\n",
              "    <tr>\n",
              "      <th>5</th>\n",
              "      <td>37180</td>\n",
              "      <td>37180</td>\n",
              "      <td>37180</td>\n",
              "      <td>37180</td>\n",
              "    </tr>\n",
              "  </tbody>\n",
              "</table>\n",
              "</div>"
            ],
            "text/plain": [
              "          time_created  date_created   title  author\n",
              "up_votes                                            \n",
              "1               275854        275854  275854  275854\n",
              "2               123484        123484  123484  123484\n",
              "3                40863         40863   40863   40863\n",
              "4                31855         31855   31855   31855\n",
              "5                37180         37180   37180   37180"
            ]
          },
          "metadata": {
            "tags": []
          },
          "execution_count": 311
        }
      ]
    },
    {
      "cell_type": "code",
      "metadata": {
        "id": "QFloMKVDQmoI"
      },
      "source": [
        "#creating new column 'text_length' which will contain the length of title\n",
        "df1['text length']=df1['title'].apply(len)"
      ],
      "execution_count": 312,
      "outputs": []
    },
    {
      "cell_type": "code",
      "metadata": {
        "id": "w2MxvZPr7UJ9"
      },
      "source": [
        "#filtering data by date_created (between 2010-2016)\n",
        "df = df1[47638:332574]"
      ],
      "execution_count": 313,
      "outputs": []
    },
    {
      "cell_type": "code",
      "metadata": {
        "id": "3vKIbSEYW7DI"
      },
      "source": [
        ""
      ],
      "execution_count": 313,
      "outputs": []
    },
    {
      "cell_type": "code",
      "metadata": {
        "id": "3L55d3N_iA4y"
      },
      "source": [
        "#Extracting 3500 records for each rating category to distribute data equally \n",
        "df1 = df[df['up_votes']==1][:3500]\n",
        "df2 = df[df['up_votes']==2][:3500]\n",
        "df3 = df[df['up_votes']==3][:3500]\n",
        "df4 = df[df['up_votes']==4][:3500]\n",
        "df5 = df[df['up_votes']==5][:3500]\n",
        "df = pd.concat([df1,df2,df3,df4,df5], ignore_index=True)\n"
      ],
      "execution_count": 314,
      "outputs": []
    },
    {
      "cell_type": "code",
      "metadata": {
        "id": "RI718suiAg6k"
      },
      "source": [
        "#shuffling data in dataset\n",
        "df = df.sample(frac=1).reset_index(drop=True)"
      ],
      "execution_count": 315,
      "outputs": []
    },
    {
      "cell_type": "code",
      "metadata": {
        "colab": {
          "base_uri": "https://localhost:8080/",
          "height": 204
        },
        "id": "-qPhMc7iD4hB",
        "outputId": "657a43e8-df52-4b8a-cf00-dd598f01090b"
      },
      "source": [
        "df.head()"
      ],
      "execution_count": 316,
      "outputs": [
        {
          "output_type": "execute_result",
          "data": {
            "text/html": [
              "<div>\n",
              "<style scoped>\n",
              "    .dataframe tbody tr th:only-of-type {\n",
              "        vertical-align: middle;\n",
              "    }\n",
              "\n",
              "    .dataframe tbody tr th {\n",
              "        vertical-align: top;\n",
              "    }\n",
              "\n",
              "    .dataframe thead th {\n",
              "        text-align: right;\n",
              "    }\n",
              "</style>\n",
              "<table border=\"1\" class=\"dataframe\">\n",
              "  <thead>\n",
              "    <tr style=\"text-align: right;\">\n",
              "      <th></th>\n",
              "      <th>time_created</th>\n",
              "      <th>date_created</th>\n",
              "      <th>up_votes</th>\n",
              "      <th>title</th>\n",
              "      <th>author</th>\n",
              "      <th>text length</th>\n",
              "    </tr>\n",
              "  </thead>\n",
              "  <tbody>\n",
              "    <tr>\n",
              "      <th>0</th>\n",
              "      <td>1268303053</td>\n",
              "      <td>2010-03-11</td>\n",
              "      <td>2</td>\n",
              "      <td>Vatican forced to defend itself over abuse cases</td>\n",
              "      <td>Maxcactus</td>\n",
              "      <td>48</td>\n",
              "    </tr>\n",
              "    <tr>\n",
              "      <th>1</th>\n",
              "      <td>1277896169</td>\n",
              "      <td>2010-06-30</td>\n",
              "      <td>2</td>\n",
              "      <td>Well, that s alright then!  Ireland Officially...</td>\n",
              "      <td>BakersDozen</td>\n",
              "      <td>72</td>\n",
              "    </tr>\n",
              "    <tr>\n",
              "      <th>2</th>\n",
              "      <td>1270376624</td>\n",
              "      <td>2010-04-04</td>\n",
              "      <td>1</td>\n",
              "      <td>White supremacists  to avenge  leader s murder...</td>\n",
              "      <td>CliffDropOver</td>\n",
              "      <td>72</td>\n",
              "    </tr>\n",
              "    <tr>\n",
              "      <th>3</th>\n",
              "      <td>1306863974</td>\n",
              "      <td>2011-05-31</td>\n",
              "      <td>5</td>\n",
              "      <td>Pak Journalist Who Wrote Of Terrorist Link To ...</td>\n",
              "      <td>Kranky_Old_Dude</td>\n",
              "      <td>258</td>\n",
              "    </tr>\n",
              "    <tr>\n",
              "      <th>4</th>\n",
              "      <td>1262973596</td>\n",
              "      <td>2010-01-08</td>\n",
              "      <td>2</td>\n",
              "      <td>Burma to execute two over secret tunnels leak</td>\n",
              "      <td>igeldard</td>\n",
              "      <td>45</td>\n",
              "    </tr>\n",
              "  </tbody>\n",
              "</table>\n",
              "</div>"
            ],
            "text/plain": [
              "   time_created date_created  ...           author text length\n",
              "0    1268303053   2010-03-11  ...        Maxcactus          48\n",
              "1    1277896169   2010-06-30  ...      BakersDozen          72\n",
              "2    1270376624   2010-04-04  ...    CliffDropOver          72\n",
              "3    1306863974   2011-05-31  ...  Kranky_Old_Dude         258\n",
              "4    1262973596   2010-01-08  ...         igeldard          45\n",
              "\n",
              "[5 rows x 6 columns]"
            ]
          },
          "metadata": {
            "tags": []
          },
          "execution_count": 316
        }
      ]
    },
    {
      "cell_type": "code",
      "metadata": {
        "colab": {
          "base_uri": "https://localhost:8080/",
          "height": 242
        },
        "id": "hQhYgFfWtJC-",
        "outputId": "dfc35175-0325-49c3-a984-464e116a9bc5"
      },
      "source": [
        "#each graph shows that title length between 50-59 has highest number of votes\n",
        "g = sns.FacetGrid(df,col='up_votes')\n",
        "g.map(plt.hist,'text length')"
      ],
      "execution_count": 317,
      "outputs": [
        {
          "output_type": "execute_result",
          "data": {
            "text/plain": [
              "<seaborn.axisgrid.FacetGrid at 0x7f9df0276f50>"
            ]
          },
          "metadata": {
            "tags": []
          },
          "execution_count": 317
        },
        {
          "output_type": "display_data",
          "data": {
            "image/png": "[encoded data removed]",
            "text/plain": [
              "<Figure size 1080x216 with 5 Axes>"
            ]
          },
          "metadata": {
            "tags": [],
            "needs_background": "light"
          }
        }
      ]
    },
    {
      "cell_type": "code",
      "metadata": {
        "colab": {
          "base_uri": "https://localhost:8080/",
          "height": 559
        },
        "id": "LBWD3vPB_u_Q",
        "outputId": "17970da7-4157-4803-e028-9b65783f9d2e"
      },
      "source": [
        "plt.figure(figsize=(12,12))\n",
        "px.histogram(x=df['text length'],color=df['up_votes'],nbins=40,opacity=0.7)"
      ],
      "execution_count": 318,
      "outputs": [
        {
          "output_type": "display_data",
          "data": {
            "text/html": [
              "<html>\n",
              "<head><meta charset=\"utf-8\" /></head>\n",
              "<body>\n",
              "    <div>\n",
              "            <script src=\"https://cdnjs.cloudflare.com/ajax/libs/mathjax/2.7.5/MathJax.js?config=TeX-AMS-MML_SVG\"></script><script type=\"text/javascript\">if (window.MathJax) {MathJax.Hub.Config({SVG: {font: \"STIX-Web\"}});}</script>\n",
              "                <script type=\"text/javascript\">window.PlotlyConfig = {MathJaxConfig: 'local'};</script>\n",
              "        <script src=\"https://cdn.plot.ly/plotly-latest.min.js\"></script>    \n",
              "            <div id=\"da1464ef-c4d3-4eef-ab82-3058493bf7b9\" class=\"plotly-graph-div\" style=\"height:525px; width:100%;\"></div>\n",
              "            <script type=\"text/javascript\">\n",
              "                \n",
              "                    window.PLOTLYENV=window.PLOTLYENV || {};\n",
              "                    \n",
              "                if (document.getElementById(\"da1464ef-c4d3-4eef-ab82-3058493bf7b9\")) {\n",
              "                    Plotly.newPlot(\n",
              "                        'da1464ef-c4d3-4eef-ab82-3058493bf7b9',\n",
              "                        [{\"alignmentgroup\": \"True\", \"bingroup\": \"x\", \"hoverlabel\": {\"namelength\": 0}, \"hovertemplate\": \"color=2<br>x=%{x}<br>count=%{y}\", \"legendgroup\": \"color=2\", \"marker\": {\"color\": \"#636efa\", \"opacity\": 0.7}, \"name\": \"color=2\", \"nbinsx\": 40, \"offsetgroup\": \"color=2\", \"orientation\": \"v\", \"showlegend\": true, \"type\": \"histogram\", \"x\": [48, 72, 45, 29, 33, 78, 120, 52, 214, 47, 155, 122, 54, 198, 58, 42, 92, 281, 62, 56, 165, 82, 148, 73, 237, 30, 36, 49, 119, 48, 76, 65, 296, 119, 30, 166, 225, 50, 53, 55, 71, 63, 220, 106, 53, 55, 74, 61, 45, 51, 61, 50, 213, 104, 162, 49, 275, 85, 65, 178, 75, 67, 52, 260, 145, 224, 53, 264, 146, 178, 196, 209, 144, 164, 41, 277, 74, 73, 64, 61, 50, 146, 63, 54, 136, 24, 148, 41, 105, 45, 113, 157, 60, 76, 51, 78, 35, 51, 48, 295, 57, 208, 35, 65, 221, 84, 72, 211, 111, 39, 67, 58, 51, 261, 77, 45, 97, 73, 45, 150, 202, 68, 70, 66, 40, 67, 99, 36, 244, 164, 220, 66, 114, 120, 256, 72, 66, 135, 231, 171, 112, 279, 281, 33, 161, 51, 51, 124, 96, 234, 247, 56, 45, 79, 61, 49, 225, 121, 66, 295, 35, 81, 41, 67, 80, 252, 86, 51, 49, 180, 54, 62, 33, 42, 55, 23, 149, 49, 59, 95, 169, 55, 62, 34, 191, 49, 71, 67, 169, 145, 52, 138, 79, 221, 138, 56, 57, 85, 189, 52, 197, 52, 291, 152, 28, 51, 36, 44, 20, 199, 70, 184, 49, 61, 204, 281, 169, 128, 34, 50, 50, 109, 67, 114, 91, 75, 287, 51, 206, 80, 55, 274, 45, 33, 92, 32, 236, 35, 70, 230, 43, 138, 222, 139, 61, 230, 58, 144, 45, 73, 53, 52, 151, 177, 42, 46, 26, 54, 48, 67, 108, 66, 24, 53, 161, 216, 106, 145, 84, 143, 59, 89, 119, 184, 36, 38, 158, 73, 49, 250, 127, 221, 64, 64, 59, 61, 120, 89, 92, 244, 86, 51, 169, 51, 133, 47, 43, 233, 50, 284, 182, 174, 82, 257, 59, 212, 115, 64, 166, 59, 45, 99, 32, 204, 47, 89, 96, 55, 238, 79, 72, 58, 50, 85, 246, 71, 233, 222, 62, 112, 39, 57, 85, 40, 94, 136, 56, 174, 220, 254, 55, 86, 45, 215, 33, 71, 116, 54, 60, 47, 52, 59, 135, 142, 60, 31, 98, 33, 50, 57, 53, 36, 113, 70, 99, 130, 193, 257, 246, 95, 67, 104, 138, 258, 60, 58, 63, 293, 81, 101, 24, 163, 238, 64, 47, 237, 50, 126, 159, 103, 62, 102, 57, 89, 296, 42, 207, 54, 68, 31, 131, 73, 47, 227, 30, 64, 73, 155, 51, 171, 141, 80, 47, 276, 50, 65, 44, 52, 36, 48, 229, 34, 207, 171, 228, 48, 159, 52, 87, 50, 55, 172, 42, 188, 59, 60, 157, 70, 272, 199, 75, 50, 82, 53, 46, 49, 172, 26, 39, 67, 64, 50, 70, 44, 72, 46, 43, 147, 143, 37, 93, 49, 175, 118, 34, 94, 33, 141, 35, 161, 71, 142, 110, 23, 49, 186, 108, 106, 235, 173, 39, 207, 53, 129, 98, 125, 169, 61, 166, 48, 41, 39, 283, 195, 169, 39, 146, 201, 153, 86, 210, 80, 46, 134, 60, 105, 51, 99, 100, 164, 54, 57, 45, 82, 96, 95, 62, 41, 71, 50, 150, 61, 251, 56, 113, 47, 71, 284, 205, 47, 79, 97, 56, 97, 65, 156, 48, 35, 58, 109, 49, 61, 101, 70, 49, 95, 90, 94, 67, 48, 89, 144, 120, 33, 54, 33, 32, 57, 76, 68, 98, 42, 55, 42, 81, 68, 150, 64, 51, 28, 106, 45, 24, 242, 38, 150, 52, 223, 82, 86, 35, 94, 103, 97, 43, 135, 116, 274, 45, 48, 78, 110, 41, 70, 205, 47, 47, 48, 73, 74, 217, 70, 209, 100, 40, 57, 130, 61, 38, 116, 65, 293, 177, 187, 57, 109, 300, 70, 215, 275, 45, 96, 89, 45, 58, 51, 72, 69, 79, 51, 47, 65, 126, 48, 176, 53, 152, 184, 47, 128, 52, 54, 54, 248, 99, 81, 72, 70, 45, 272, 41, 127, 55, 193, 54, 72, 27, 43, 81, 227, 163, 58, 42, 56, 97, 108, 56, 169, 24, 260, 59, 66, 117, 119, 44, 95, 99, 100, 133, 59, 58, 60, 119, 43, 76, 39, 54, 44, 26, 41, 200, 171, 61, 84, 157, 114, 99, 167, 86, 59, 96, 49, 175, 190, 49, 123, 59, 39, 68, 120, 57, 103, 70, 37, 281, 155, 26, 56, 220, 38, 42, 42, 61, 70, 99, 78, 141, 48, 79, 48, 273, 47, 226, 225, 62, 248, 30, 54, 47, 268, 64, 219, 59, 40, 56, 114, 120, 143, 52, 81, 233, 141, 59, 43, 33, 55, 287, 152, 50, 52, 54, 202, 168, 152, 41, 218, 68, 182, 66, 195, 40, 58, 121, 149, 52, 57, 76, 55, 145, 58, 68, 47, 87, 179, 51, 227, 72, 46, 40, 88, 50, 103, 136, 48, 38, 33, 97, 168, 111, 58, 124, 55, 60, 53, 67, 233, 66, 55, 126, 56, 236, 51, 278, 101, 76, 69, 44, 62, 138, 105, 130, 62, 50, 224, 64, 44, 126, 246, 62, 57, 75, 33, 108, 74, 46, 38, 87, 182, 146, 108, 56, 74, 112, 74, 57, 65, 139, 163, 65, 152, 256, 242, 77, 141, 57, 273, 31, 203, 113, 254, 62, 178, 146, 61, 89, 70, 57, 265, 95, 53, 67, 60, 50, 64, 37, 296, 81, 75, 30, 190, 300, 91, 85, 102, 184, 63, 251, 53, 52, 88, 197, 34, 72, 36, 42, 54, 138, 34, 95, 44, 231, 41, 60, 237, 36, 50, 117, 39, 47, 41, 92, 43, 66, 173, 78, 58, 161, 140, 76, 54, 190, 130, 48, 48, 202, 228, 207, 54, 32, 142, 49, 54, 53, 256, 49, 76, 180, 255, 122, 114, 79, 147, 65, 33, 51, 93, 56, 41, 48, 59, 112, 129, 73, 172, 256, 71, 63, 226, 188, 44, 158, 95, 74, 60, 92, 175, 140, 167, 188, 29, 113, 168, 214, 243, 34, 85, 55, 110, 39, 142, 295, 87, 58, 88, 69, 31, 197, 57, 42, 216, 49, 71, 46, 41, 148, 46, 72, 47, 69, 24, 51, 200, 44, 141, 85, 210, 232, 42, 53, 256, 107, 52, 45, 121, 153, 94, 29, 58, 64, 149, 113, 124, 186, 258, 146, 53, 136, 33, 73, 89, 77, 233, 239, 42, 41, 40, 33, 56, 142, 63, 119, 71, 126, 38, 129, 284, 65, 46, 37, 48, 89, 198, 59, 159, 71, 205, 106, 47, 129, 191, 242, 134, 184, 101, 108, 73, 107, 50, 45, 44, 105, 108, 63, 200, 17, 32, 61, 108, 62, 174, 52, 167, 32, 104, 106, 45, 118, 189, 63, 69, 91, 65, 163, 79, 33, 50, 50, 182, 49, 35, 186, 52, 139, 67, 94, 41, 131, 32, 83, 137, 68, 76, 218, 47, 287, 64, 77, 175, 114, 210, 226, 39, 164, 109, 70, 46, 177, 58, 117, 245, 56, 45, 120, 127, 57, 37, 50, 168, 177, 68, 221, 32, 68, 171, 56, 64, 60, 62, 46, 85, 46, 99, 117, 47, 60, 63, 69, 82, 41, 47, 43, 59, 110, 167, 35, 33, 59, 54, 133, 219, 57, 79, 51, 50, 37, 158, 295, 51, 197, 187, 47, 254, 148, 103, 46, 143, 83, 61, 208, 54, 296, 196, 174, 102, 48, 108, 134, 62, 34, 252, 73, 187, 39, 62, 47, 212, 71, 65, 82, 101, 77, 37, 61, 53, 55, 45, 68, 67, 107, 72, 186, 186, 48, 154, 95, 43, 85, 168, 67, 83, 70, 57, 34, 40, 214, 146, 57, 78, 118, 137, 53, 186, 80, 220, 44, 91, 145, 75, 58, 206, 34, 245, 252, 55, 95, 69, 89, 86, 73, 126, 234, 109, 55, 109, 222, 86, 128, 61, 48, 75, 46, 41, 57, 70, 71, 204, 71, 55, 82, 273, 41, 80, 86, 51, 60, 168, 98, 54, 224, 56, 60, 77, 48, 26, 58, 49, 126, 20, 60, 33, 53, 56, 53, 155, 66, 66, 70, 84, 87, 46, 296, 54, 31, 92, 78, 26, 121, 46, 112, 66, 117, 98, 57, 222, 82, 61, 54, 40, 66, 141, 94, 35, 40, 235, 157, 51, 61, 65, 57, 42, 73, 68, 176, 50, 57, 281, 100, 42, 269, 138, 60, 93, 49, 97, 185, 104, 55, 58, 54, 245, 115, 45, 44, 55, 35, 132, 185, 169, 174, 63, 67, 71, 40, 45, 33, 45, 93, 50, 66, 43, 27, 67, 53, 35, 147, 268, 71, 80, 101, 25, 50, 232, 101, 45, 198, 219, 92, 96, 202, 183, 66, 103, 66, 179, 48, 113, 61, 286, 293, 113, 88, 94, 112, 33, 118, 45, 34, 48, 230, 77, 51, 160, 177, 141, 42, 55, 265, 94, 82, 56, 79, 45, 92, 57, 51, 80, 92, 77, 34, 64, 48, 161, 62, 39, 65, 63, 75, 117, 27, 37, 78, 43, 133, 79, 135, 71, 40, 51, 46, 57, 48, 52, 56, 33, 221, 31, 120, 96, 36, 93, 48, 227, 50, 50, 89, 59, 45, 109, 79, 109, 41, 138, 276, 53, 114, 101, 91, 151, 171, 121, 71, 50, 76, 44, 289, 86, 37, 55, 30, 48, 99, 191, 82, 72, 71, 60, 74, 133, 150, 74, 76, 49, 218, 114, 20, 140, 32, 55, 52, 244, 33, 48, 48, 62, 40, 139, 41, 262, 115, 143, 53, 258, 104, 35, 15, 86, 120, 83, 172, 94, 49, 167, 60, 62, 137, 144, 53, 38, 63, 51, 271, 145, 208, 197, 44, 133, 170, 40, 31, 97, 112, 64, 276, 70, 62, 71, 48, 158, 182, 43, 42, 49, 95, 50, 96, 46, 58, 280, 57, 47, 122, 147, 69, 56, 54, 53, 43, 223, 61, 54, 158, 67, 229, 95, 35, 49, 46, 77, 47, 56, 41, 57, 206, 162, 172, 137, 98, 223, 43, 72, 49, 51, 75, 67, 88, 195, 217, 38, 64, 75, 128, 53, 115, 67, 126, 98, 60, 106, 191, 33, 50, 60, 119, 20, 37, 25, 39, 272, 115, 94, 189, 111, 266, 97, 56, 88, 51, 144, 71, 100, 121, 74, 22, 105, 79, 177, 274, 130, 50, 146, 73, 31, 106, 296, 81, 156, 179, 60, 87, 205, 14, 84, 60, 47, 107, 46, 160, 113, 33, 48, 282, 55, 222, 120, 97, 162, 37, 51, 294, 41, 144, 195, 65, 56, 50, 137, 128, 38, 54, 32, 107, 36, 59, 115, 223, 145, 49, 161, 34, 43, 59, 146, 78, 126, 111, 183, 157, 55, 97, 53, 100, 46, 86, 259, 67, 178, 65, 294, 230, 164, 232, 26, 76, 66, 80, 47, 135, 50, 93, 38, 243, 195, 54, 49, 51, 127, 207, 80, 101, 102, 33, 187, 34, 46, 91, 36, 66, 80, 177, 108, 46, 39, 110, 202, 59, 291, 56, 75, 93, 123, 135, 50, 101, 52, 299, 62, 100, 129, 54, 222, 40, 212, 51, 52, 111, 40, 48, 62, 101, 79, 278, 83, 33, 38, 98, 42, 63, 121, 71, 161, 65, 144, 252, 151, 233, 42, 134, 53, 50, 168, 154, 49, 35, 97, 61, 165, 203, 207, 45, 125, 61, 40, 181, 46, 43, 42, 207, 248, 44, 72, 33, 178, 39, 67, 42, 47, 146, 202, 53, 70, 76, 130, 213, 153, 67, 93, 84, 96, 154, 107, 156, 44, 64, 42, 92, 235, 268, 60, 32, 31, 152, 52, 54, 63, 124, 64, 65, 53, 185, 79, 107, 116, 139, 55, 119, 66, 190, 18, 113, 40, 75, 58, 48, 233, 46, 196, 117, 46, 112, 53, 56, 63, 122, 47, 125, 101, 126, 77, 69, 83, 94, 122, 31, 111, 67, 98, 89, 91, 53, 35, 226, 95, 30, 49, 55, 112, 45, 276, 39, 129, 50, 121, 47, 47, 51, 131, 142, 55, 48, 213, 70, 59, 36, 191, 112, 55, 41, 153, 52, 115, 132, 294, 48, 48, 150, 116, 247, 50, 46, 63, 58, 37, 41, 144, 104, 166, 108, 107, 87, 85, 149, 66, 38, 89, 54, 282, 55, 211, 82, 61, 135, 141, 56, 52, 109, 93, 68, 168, 145, 60, 53, 108, 299, 46, 42, 95, 51, 246, 198, 47, 47, 216, 277, 71, 79, 32, 42, 102, 45, 87, 46, 41, 60, 88, 55, 78, 67, 104, 208, 143, 149, 85, 49, 41, 41, 45, 64, 99, 137, 144, 61, 36, 103, 43, 73, 215, 46, 79, 53, 74, 102, 42, 75, 27, 102, 45, 97, 67, 75, 63, 63, 66, 93, 157, 51, 61, 53, 62, 91, 38, 36, 58, 42, 144, 66, 32, 45, 148, 60, 69, 63, 61, 44, 158, 60, 45, 33, 148, 45, 162, 161, 56, 84, 48, 103, 120, 167, 131, 50, 41, 105, 185, 215, 41, 124, 105, 241, 258, 29, 274, 69, 51, 111, 240, 173, 79, 242, 51, 264, 88, 118, 47, 32, 63, 251, 213, 39, 73, 74, 49, 116, 25, 129, 276, 160, 55, 57, 34, 91, 70, 78, 44, 70, 38, 42, 61, 44, 94, 116, 63, 267, 45, 213, 112, 300, 69, 51, 113, 104, 48, 291, 54, 59, 51, 27, 55, 175, 71, 91, 52, 98, 33, 177, 42, 64, 106, 43, 295, 212, 63, 47, 50, 48, 102, 114, 169, 44, 82, 42, 37, 54, 128, 61, 53, 103, 282, 40, 115, 48, 53, 224, 225, 181, 66, 153, 76, 152, 98, 191, 112, 167, 50, 177, 59, 70, 116, 55, 194, 262, 44, 59, 121, 32, 85, 43, 117, 43, 86, 58, 57, 69, 57, 33, 75, 83, 50, 46, 52, 268, 87, 34, 68, 131, 65, 158, 112, 57, 47, 72, 176, 113, 275, 142, 187, 104, 157, 81, 189, 125, 68, 134, 60, 52, 38, 155, 74, 200, 140, 68, 123, 241, 153, 45, 55, 141, 57, 32, 172, 51, 39, 78, 52, 35, 295, 297, 59, 100, 259, 61, 104, 64, 153, 137, 54, 101, 99, 89, 89, 87, 126, 139, 34, 90, 106, 86, 58, 171, 46, 46, 150, 36, 83, 166, 163, 140, 149, 242, 167, 46, 137, 186, 41, 49, 56, 169, 162, 193, 88, 142, 244, 30, 52, 40, 47, 63, 48, 42, 106, 47, 72, 42, 154, 105, 43, 76, 179, 101, 57, 70, 248, 131, 122, 80, 248, 143, 95, 261, 291, 131, 181, 135, 145, 252, 45, 57, 68, 49, 56, 151, 222, 238, 90, 181, 46, 122, 77, 74, 53, 42, 37, 92, 175, 280, 188, 48, 61, 41, 280, 191, 229, 216, 105, 139, 62, 159, 68, 154, 211, 101, 66, 117, 67, 38, 151, 82, 58, 68, 137, 218, 44, 68, 156, 25, 108, 164, 187, 64, 106, 59, 40, 78, 46, 42, 161, 49, 39, 83, 40, 132, 65, 56, 106, 45, 37, 162, 101, 61, 49, 241, 27, 52, 226, 51, 16, 30, 113, 42, 74, 91, 257, 104, 202, 69, 100, 52, 250, 35, 45, 235, 191, 91, 49, 151, 32, 141, 209, 116, 56, 51, 106, 35, 91, 49, 47, 65, 274, 59, 272, 126, 104, 180, 192, 64, 38, 90, 72, 157, 57, 165, 292, 141, 36, 245, 64, 121, 73, 55, 38, 159, 240, 58, 59, 63, 32, 189, 44, 138, 43, 194, 30, 45, 141, 150, 131, 95, 42, 62, 48, 55, 66, 44, 133, 222, 187, 40, 146, 39, 155, 91, 68, 140, 30, 55, 93, 41, 223, 61, 34, 40, 110, 51, 135, 50, 58, 43, 73, 64, 85, 51, 75, 106, 46, 96, 37, 169, 168, 57, 43, 50, 250, 126, 62, 75, 46, 121, 254, 193, 89, 255, 40, 149, 138, 36, 57, 168, 211, 144, 36, 92, 41, 99, 44, 121, 37, 82, 183, 285, 106, 77, 287, 168, 235, 33, 20, 30, 53, 186, 182, 47, 120, 88, 31, 85, 48, 32, 50, 130, 61, 32, 202, 82, 135, 112, 213, 50, 47, 287, 75, 199, 37, 176, 272, 144, 47, 49, 49, 221, 85, 50, 194, 120, 192, 149, 54, 116, 65, 42, 295, 38, 46, 34, 51, 129, 148, 50, 57, 42, 258, 188, 46, 95, 48, 118, 38, 70, 85, 100, 188, 109, 50, 44, 112, 110, 94, 69, 72, 147, 87, 134, 116, 102, 196, 219, 107, 124, 78, 160, 27, 23, 198, 51, 42, 72, 25, 38, 53, 140, 65, 51, 50, 60, 55, 209, 250, 155, 85, 287, 41, 75, 148, 124, 35, 226, 141, 59, 87, 110, 216, 98, 29, 50, 110, 65, 66, 51, 40, 47, 120, 109, 51, 61, 37, 163, 49, 74, 35, 65, 96, 71, 90, 53, 40, 45, 76, 150, 198, 138, 60, 100, 49, 39, 159, 136, 119, 41, 219, 127, 112, 50, 20, 80, 71, 242, 40, 77, 67, 64, 211, 110, 109, 88, 47, 111, 79, 72, 41, 127, 53, 52, 118, 181, 178, 51, 151, 149, 57, 88, 38, 67, 37, 70, 113, 119, 24, 77, 182, 114, 39, 205, 61, 52, 251, 250, 138, 66, 232, 70, 43, 74, 122, 150, 70, 52, 62, 241, 55, 52, 74, 46, 50, 266, 218, 73, 77, 33, 56, 267, 91, 55, 55, 148, 46, 288, 70, 82, 148, 57, 56, 75, 176, 265, 46, 43, 198, 41, 43, 54, 225, 76, 260, 69, 52, 33, 165, 160, 87, 53, 145, 195, 62, 68, 54, 51, 110, 47, 41, 88, 88, 132, 26, 54, 92, 47, 129, 189, 61, 48, 58, 96, 205, 141, 291, 54, 69, 36, 81, 61, 51, 102, 157, 52, 125, 47, 143, 44, 59, 64, 72, 88, 25, 112, 53, 101, 131, 89, 47, 50, 110, 102, 150, 186, 51, 100, 63, 43, 180, 37, 192, 58, 98, 170, 51, 53, 76, 95, 76, 250, 55, 35, 50, 25, 257, 77, 35, 93, 66, 152, 130, 47, 22, 170, 121, 48, 62, 227, 161, 174, 53, 50, 45, 73, 87, 47, 299, 96, 35, 83, 173, 81, 183, 57, 55, 212, 150, 53, 130, 38, 70, 74, 64, 251, 254, 75, 54, 200, 71, 51, 135, 106, 157, 39, 80, 65, 49, 132, 169, 139, 296, 96, 65, 123, 78, 76, 284, 214, 63, 40, 79, 81, 42, 149, 44, 156, 211, 30, 126, 190, 55, 160, 50, 69, 102, 285, 50, 73, 42, 155, 41, 216, 147, 277, 110, 28, 54, 64, 199, 193, 88, 83, 29, 46, 40, 96, 248, 257, 201, 140, 95, 55, 288, 41, 71, 222, 52, 40, 32, 95, 134, 69, 61, 57, 106, 40, 130, 49, 75, 56, 87, 288, 40, 106, 274, 70, 74, 60, 52, 44, 47, 53, 43, 52, 156, 52, 69, 55, 189, 61, 62, 99, 67, 51, 126, 29, 276, 45, 77, 70, 132, 108, 269, 212, 54, 177, 31, 284, 48, 64, 280, 66, 179, 46, 90, 37, 122, 66, 164, 87, 46, 122, 55, 91, 153, 201, 45, 94, 39, 164, 264, 51, 30, 35, 71, 37, 285, 128, 189, 39, 55, 263, 57, 53, 140, 132, 46, 147, 108, 277, 44, 32, 127, 247, 42, 221, 24, 155, 90, 118, 109, 93, 54, 200, 64, 87, 94, 33, 232, 115, 112, 53, 59, 160, 115, 58, 54, 101, 35, 59, 46, 100, 193, 75, 147, 290, 40, 163, 116, 120, 78, 221, 140, 254, 31, 155, 110, 69, 62, 31, 57, 86, 31, 75, 91, 49, 62, 55, 32, 108, 273, 206, 291, 79, 76, 62, 74, 95, 177, 38, 66, 113, 223, 28, 101, 61, 27, 158, 141, 224, 233, 65, 78, 37, 94, 45, 101, 142, 63, 83, 60, 66, 82, 31, 55, 87, 77, 49, 143, 71, 130, 79, 53, 60, 26, 37, 219, 170, 228, 41, 137, 48, 168, 39, 116, 43, 46, 161, 40, 164, 57, 105, 192, 98, 191, 40, 71, 95, 119, 34, 113, 75, 100, 187, 44, 69, 35, 147, 79, 139, 80, 38, 105, 50, 53, 99, 46, 232, 159, 204, 45, 98, 77, 120, 53, 140, 33, 122, 142, 197, 175, 284, 124, 120, 98, 40, 18, 60, 42, 166, 169, 46, 202, 45, 86, 19, 53, 58, 48, 115, 53, 54, 97, 66, 48, 211, 40, 162, 245, 116, 33, 50, 64, 60, 99, 143, 290, 85, 141, 46, 104, 48, 289, 115, 42, 182, 169, 115, 33, 63, 67, 169, 45, 111, 48, 40, 173, 65, 110, 61, 67, 63, 277, 101, 40, 51, 69, 210, 158, 113, 56, 68, 257, 55, 274, 248, 220, 148, 46, 40, 127, 57, 54, 23, 84, 271, 152, 54, 70, 85, 84, 58, 48, 51, 145, 190, 252, 145, 36, 56, 74, 136, 122, 153, 169, 48, 44, 121, 49, 125, 65, 41, 104, 39, 160, 192, 44, 28, 203, 137, 111, 44, 187, 145, 110, 59, 82, 62, 29, 111, 290, 265, 88, 111, 45, 233, 159, 85, 285, 104, 63, 69, 36, 82, 147, 48, 50, 49, 46, 140, 88, 221, 197, 71, 38, 163, 81, 87, 52, 96, 46, 155, 58, 147, 77, 50, 74, 75, 59, 186, 45, 105, 80, 47, 50, 197, 147, 300, 226, 139, 54, 196, 64, 86, 57, 109, 236, 183, 99, 120, 59, 182, 51, 197, 116, 269, 33, 52, 33, 222, 273, 89, 63, 209, 107, 42, 157, 42, 130, 44, 64, 52, 62, 67, 83, 35, 113, 68, 91, 43, 49, 91, 66, 292, 70, 86, 35, 118, 250, 76, 147, 69, 64], \"xaxis\": \"x\", \"yaxis\": \"y\"}, {\"alignmentgroup\": \"True\", \"bingroup\": \"x\", \"hoverlabel\": {\"namelength\": 0}, \"hovertemplate\": \"color=1<br>x=%{x}<br>count=%{y}\", \"legendgroup\": \"color=1\", \"marker\": {\"color\": \"#EF553B\", \"opacity\": 0.7}, \"name\": \"color=1\", \"nbinsx\": 40, \"offsetgroup\": \"color=1\", \"orientation\": \"v\", \"showlegend\": true, \"type\": \"histogram\", \"x\": [72, 274, 69, 77, 53, 157, 198, 51, 35, 87, 51, 74, 92, 22, 143, 285, 96, 49, 102, 63, 89, 155, 66, 124, 94, 43, 45, 215, 53, 46, 57, 90, 182, 59, 202, 79, 50, 60, 100, 42, 67, 63, 42, 67, 60, 51, 62, 121, 71, 56, 176, 30, 48, 98, 53, 47, 285, 75, 62, 74, 32, 52, 47, 85, 82, 121, 58, 36, 41, 96, 54, 52, 159, 48, 70, 202, 50, 132, 54, 217, 116, 45, 66, 50, 67, 233, 292, 73, 44, 182, 237, 77, 163, 50, 29, 54, 123, 75, 111, 97, 39, 43, 208, 145, 62, 32, 73, 129, 175, 43, 67, 62, 171, 113, 44, 78, 125, 110, 291, 47, 87, 60, 65, 215, 136, 53, 144, 132, 149, 41, 84, 38, 58, 69, 253, 37, 34, 201, 57, 51, 252, 124, 106, 126, 36, 75, 120, 212, 168, 56, 274, 52, 91, 56, 38, 205, 47, 281, 121, 43, 37, 32, 67, 91, 36, 114, 53, 51, 58, 85, 82, 215, 31, 85, 110, 48, 39, 39, 54, 66, 59, 55, 100, 92, 187, 105, 118, 76, 33, 46, 50, 68, 96, 35, 254, 153, 44, 48, 125, 33, 38, 54, 199, 214, 73, 131, 59, 51, 79, 131, 147, 48, 163, 60, 77, 28, 152, 226, 45, 87, 46, 51, 136, 51, 194, 67, 92, 40, 245, 68, 67, 37, 173, 80, 43, 123, 62, 86, 97, 51, 34, 45, 35, 131, 37, 100, 47, 83, 30, 271, 42, 119, 70, 188, 50, 107, 217, 295, 48, 71, 54, 116, 66, 55, 42, 44, 52, 284, 117, 40, 50, 87, 128, 49, 237, 63, 206, 75, 76, 44, 51, 140, 116, 143, 93, 159, 54, 62, 21, 183, 43, 13, 130, 41, 63, 53, 142, 54, 89, 63, 76, 41, 61, 31, 163, 126, 29, 231, 35, 55, 161, 48, 227, 32, 106, 111, 131, 177, 70, 208, 56, 75, 115, 60, 30, 35, 90, 295, 241, 121, 135, 24, 39, 129, 183, 56, 130, 25, 230, 40, 163, 194, 112, 64, 148, 66, 122, 110, 183, 44, 43, 33, 37, 64, 75, 41, 38, 70, 136, 99, 146, 104, 50, 73, 56, 70, 28, 38, 146, 54, 183, 129, 43, 48, 69, 65, 191, 41, 50, 154, 64, 92, 32, 48, 55, 148, 122, 81, 48, 51, 62, 39, 94, 169, 45, 45, 56, 22, 47, 33, 163, 61, 52, 37, 98, 133, 34, 36, 48, 36, 88, 127, 98, 50, 123, 37, 73, 106, 59, 48, 79, 59, 33, 31, 41, 46, 35, 72, 14, 26, 24, 55, 37, 278, 84, 183, 117, 130, 44, 60, 125, 118, 144, 54, 65, 114, 137, 192, 55, 43, 149, 49, 36, 80, 75, 44, 99, 46, 48, 49, 82, 71, 262, 148, 42, 42, 148, 65, 61, 113, 76, 48, 54, 76, 35, 53, 78, 38, 74, 85, 53, 53, 50, 33, 131, 43, 191, 225, 69, 79, 47, 53, 96, 71, 20, 102, 123, 56, 55, 89, 49, 159, 47, 71, 64, 49, 52, 108, 141, 96, 130, 115, 43, 35, 88, 49, 263, 80, 29, 140, 71, 51, 160, 52, 46, 60, 57, 108, 183, 26, 53, 67, 115, 65, 42, 49, 83, 195, 108, 171, 186, 116, 66, 93, 280, 279, 76, 245, 85, 70, 113, 45, 62, 254, 123, 32, 164, 82, 33, 48, 144, 47, 32, 42, 126, 42, 47, 168, 179, 59, 85, 111, 11, 99, 135, 39, 110, 54, 79, 132, 104, 37, 81, 132, 70, 66, 96, 46, 82, 50, 89, 195, 104, 135, 95, 210, 47, 45, 145, 147, 55, 57, 230, 46, 127, 170, 57, 100, 48, 110, 40, 51, 50, 166, 133, 37, 52, 32, 62, 49, 73, 44, 49, 52, 105, 48, 37, 50, 73, 38, 72, 40, 71, 108, 56, 167, 204, 251, 59, 66, 95, 37, 149, 69, 45, 62, 86, 140, 141, 120, 60, 42, 48, 221, 101, 111, 81, 36, 67, 33, 93, 78, 99, 49, 31, 56, 265, 91, 64, 48, 88, 81, 44, 32, 162, 43, 88, 48, 171, 33, 50, 40, 43, 42, 31, 36, 134, 145, 37, 87, 154, 87, 38, 76, 108, 124, 10, 105, 37, 71, 166, 51, 67, 249, 143, 66, 51, 21, 161, 49, 34, 61, 61, 71, 47, 59, 128, 105, 110, 48, 153, 86, 259, 60, 79, 46, 101, 123, 47, 146, 79, 44, 145, 32, 107, 31, 145, 32, 149, 131, 59, 24, 56, 81, 58, 62, 52, 55, 51, 71, 25, 89, 152, 84, 132, 51, 61, 46, 41, 88, 34, 128, 47, 30, 48, 58, 78, 277, 152, 54, 39, 152, 52, 43, 44, 49, 82, 48, 76, 119, 50, 56, 42, 110, 61, 145, 52, 95, 255, 53, 292, 221, 29, 56, 54, 67, 60, 84, 255, 169, 44, 51, 122, 31, 41, 223, 45, 39, 225, 218, 41, 41, 62, 46, 177, 47, 43, 76, 145, 35, 133, 72, 126, 58, 45, 41, 88, 53, 45, 68, 45, 146, 142, 33, 40, 43, 47, 43, 138, 88, 58, 48, 153, 94, 51, 116, 62, 169, 144, 67, 70, 42, 56, 130, 94, 24, 58, 48, 101, 47, 296, 68, 73, 54, 195, 254, 213, 47, 280, 93, 50, 43, 70, 55, 38, 54, 67, 114, 273, 25, 135, 54, 68, 32, 166, 43, 35, 51, 79, 130, 42, 221, 258, 59, 156, 44, 88, 110, 40, 78, 52, 211, 70, 56, 88, 101, 107, 50, 23, 48, 49, 64, 45, 105, 59, 74, 65, 296, 45, 110, 36, 88, 59, 87, 55, 118, 76, 63, 271, 58, 89, 34, 70, 138, 52, 143, 48, 54, 119, 174, 164, 35, 48, 285, 123, 202, 77, 54, 59, 195, 55, 130, 90, 64, 67, 39, 47, 175, 103, 291, 119, 115, 81, 136, 45, 140, 94, 44, 39, 65, 54, 46, 57, 40, 113, 196, 36, 50, 67, 57, 53, 195, 43, 250, 103, 55, 63, 161, 223, 131, 68, 43, 40, 60, 53, 127, 94, 30, 247, 85, 33, 256, 40, 48, 276, 59, 15, 144, 66, 50, 81, 144, 70, 31, 40, 78, 55, 60, 54, 165, 62, 46, 184, 111, 45, 77, 22, 209, 219, 24, 102, 23, 276, 195, 69, 47, 31, 204, 143, 50, 69, 71, 126, 172, 234, 100, 64, 31, 210, 57, 50, 38, 58, 32, 218, 117, 43, 50, 60, 68, 77, 179, 66, 49, 46, 138, 37, 65, 44, 194, 46, 141, 72, 135, 156, 38, 133, 86, 40, 212, 39, 33, 75, 119, 55, 16, 43, 111, 226, 49, 82, 67, 84, 40, 52, 33, 39, 69, 64, 284, 45, 99, 298, 236, 104, 35, 125, 92, 45, 135, 41, 184, 29, 146, 84, 50, 47, 39, 222, 102, 134, 59, 61, 41, 51, 41, 32, 129, 58, 24, 68, 46, 53, 91, 86, 179, 50, 137, 37, 116, 112, 81, 58, 21, 250, 103, 34, 40, 75, 35, 99, 153, 59, 63, 50, 214, 42, 46, 47, 138, 70, 111, 163, 101, 33, 114, 54, 40, 80, 116, 151, 65, 101, 164, 58, 66, 61, 71, 171, 60, 120, 62, 212, 34, 50, 63, 114, 38, 56, 62, 46, 47, 195, 57, 33, 39, 52, 176, 86, 158, 109, 49, 82, 44, 116, 136, 283, 150, 50, 39, 44, 52, 42, 37, 75, 35, 93, 66, 177, 241, 33, 111, 39, 146, 16, 59, 299, 37, 75, 186, 77, 107, 55, 80, 102, 68, 67, 257, 51, 105, 49, 166, 140, 197, 33, 200, 34, 56, 263, 136, 39, 211, 246, 281, 52, 109, 56, 144, 88, 87, 44, 186, 41, 71, 56, 96, 72, 50, 38, 32, 71, 46, 36, 156, 58, 45, 68, 188, 99, 29, 121, 72, 33, 45, 102, 58, 150, 39, 121, 51, 30, 295, 41, 244, 51, 32, 62, 152, 89, 66, 51, 102, 136, 79, 68, 43, 35, 36, 106, 43, 29, 49, 64, 37, 68, 33, 38, 73, 51, 63, 81, 160, 54, 74, 73, 96, 33, 147, 79, 42, 115, 173, 76, 86, 51, 49, 55, 40, 44, 22, 55, 41, 39, 26, 89, 41, 190, 33, 31, 34, 124, 189, 58, 62, 47, 36, 46, 156, 41, 151, 43, 54, 116, 232, 101, 18, 68, 20, 35, 74, 44, 38, 144, 176, 54, 111, 142, 153, 61, 38, 146, 69, 205, 101, 158, 205, 104, 50, 97, 37, 23, 118, 125, 130, 71, 25, 55, 174, 30, 132, 119, 154, 57, 59, 263, 134, 116, 91, 33, 107, 52, 137, 97, 76, 55, 180, 241, 47, 43, 114, 79, 49, 73, 125, 61, 260, 62, 43, 114, 54, 94, 50, 183, 243, 69, 71, 61, 42, 140, 54, 67, 36, 57, 57, 61, 70, 59, 77, 54, 175, 80, 80, 43, 51, 59, 112, 61, 61, 55, 90, 136, 49, 140, 57, 108, 50, 42, 72, 40, 68, 60, 251, 152, 77, 243, 59, 289, 49, 56, 76, 53, 54, 79, 154, 216, 53, 63, 117, 96, 71, 210, 55, 190, 280, 56, 47, 54, 50, 38, 146, 92, 82, 95, 89, 144, 30, 70, 35, 30, 40, 27, 105, 63, 117, 110, 97, 45, 34, 42, 50, 68, 224, 51, 25, 148, 51, 61, 67, 115, 247, 61, 293, 30, 31, 69, 76, 161, 97, 48, 130, 40, 81, 87, 100, 172, 39, 36, 54, 35, 47, 38, 55, 39, 104, 51, 276, 45, 84, 76, 71, 120, 66, 43, 132, 64, 73, 89, 183, 148, 31, 94, 132, 77, 37, 45, 226, 52, 81, 138, 35, 33, 131, 34, 32, 144, 61, 140, 73, 83, 75, 72, 104, 60, 63, 294, 95, 34, 159, 66, 41, 106, 69, 106, 103, 74, 25, 63, 109, 54, 47, 58, 89, 103, 169, 39, 70, 92, 29, 39, 164, 168, 43, 62, 39, 37, 94, 85, 36, 226, 24, 89, 55, 60, 86, 62, 36, 47, 163, 49, 181, 165, 139, 183, 31, 34, 242, 185, 83, 42, 135, 106, 49, 157, 157, 185, 41, 227, 291, 108, 59, 145, 138, 41, 148, 52, 188, 60, 47, 53, 155, 181, 75, 51, 248, 75, 266, 37, 62, 51, 75, 91, 64, 96, 216, 61, 123, 66, 76, 33, 251, 71, 76, 70, 83, 117, 44, 51, 142, 60, 231, 51, 114, 86, 222, 63, 45, 42, 56, 101, 165, 95, 245, 251, 50, 33, 114, 59, 238, 133, 124, 35, 192, 59, 129, 48, 71, 92, 226, 63, 64, 299, 49, 124, 144, 41, 36, 32, 29, 222, 95, 80, 54, 150, 153, 45, 119, 104, 133, 38, 55, 227, 31, 154, 146, 57, 30, 40, 46, 77, 201, 74, 76, 119, 58, 113, 49, 119, 46, 31, 131, 41, 46, 132, 125, 68, 33, 26, 63, 72, 48, 71, 54, 20, 38, 63, 65, 52, 167, 240, 62, 106, 59, 79, 144, 47, 276, 72, 54, 32, 93, 300, 40, 64, 168, 55, 53, 60, 54, 104, 30, 119, 114, 292, 35, 94, 184, 23, 75, 70, 133, 36, 129, 299, 21, 22, 133, 58, 43, 135, 64, 104, 69, 68, 236, 80, 151, 47, 51, 136, 82, 68, 56, 97, 168, 76, 72, 77, 51, 117, 97, 20, 47, 165, 47, 49, 74, 78, 143, 283, 65, 111, 31, 225, 67, 42, 34, 112, 51, 44, 33, 167, 79, 74, 50, 47, 66, 38, 118, 70, 182, 180, 49, 119, 54, 49, 114, 58, 40, 52, 51, 93, 233, 110, 97, 87, 39, 266, 143, 47, 46, 23, 43, 120, 172, 149, 60, 164, 32, 51, 193, 194, 125, 40, 49, 41, 23, 281, 74, 103, 46, 135, 32, 30, 85, 113, 208, 42, 36, 117, 210, 184, 53, 78, 22, 42, 254, 78, 203, 136, 30, 109, 177, 109, 33, 199, 199, 26, 99, 35, 109, 213, 70, 48, 46, 98, 45, 82, 80, 85, 50, 58, 37, 41, 109, 150, 77, 80, 147, 48, 272, 223, 248, 41, 92, 47, 50, 80, 99, 50, 78, 28, 95, 166, 50, 40, 149, 135, 126, 51, 285, 50, 43, 46, 51, 124, 89, 82, 94, 174, 47, 101, 76, 185, 87, 47, 66, 70, 50, 40, 51, 44, 174, 60, 101, 78, 76, 43, 81, 80, 250, 50, 128, 53, 28, 136, 67, 138, 98, 105, 55, 50, 33, 47, 126, 172, 57, 72, 39, 68, 55, 46, 75, 56, 60, 36, 75, 180, 241, 73, 60, 192, 186, 247, 41, 42, 64, 83, 33, 133, 101, 197, 45, 207, 44, 177, 54, 37, 55, 120, 60, 102, 58, 165, 49, 48, 53, 48, 259, 66, 33, 41, 33, 58, 50, 48, 132, 55, 54, 157, 295, 88, 24, 72, 61, 61, 48, 55, 45, 95, 156, 50, 67, 52, 62, 59, 61, 107, 114, 158, 62, 254, 62, 179, 31, 256, 58, 68, 143, 292, 46, 53, 62, 14, 145, 77, 119, 131, 157, 53, 39, 45, 49, 24, 89, 44, 197, 117, 164, 131, 23, 65, 196, 42, 67, 122, 50, 37, 41, 65, 88, 202, 68, 68, 181, 206, 120, 56, 48, 46, 146, 54, 109, 139, 76, 40, 39, 49, 29, 58, 76, 269, 52, 21, 75, 178, 98, 58, 249, 125, 69, 159, 34, 95, 71, 211, 159, 55, 33, 83, 53, 71, 59, 47, 165, 48, 55, 77, 114, 227, 122, 86, 48, 278, 92, 187, 67, 5, 119, 58, 41, 191, 65, 51, 42, 89, 87, 76, 270, 74, 82, 155, 58, 106, 65, 21, 80, 46, 149, 48, 45, 40, 35, 63, 155, 92, 235, 51, 53, 46, 72, 54, 89, 57, 103, 65, 106, 48, 83, 33, 54, 107, 68, 44, 249, 151, 205, 70, 44, 36, 143, 45, 33, 39, 47, 175, 93, 49, 135, 65, 62, 54, 43, 187, 86, 91, 148, 20, 42, 162, 97, 38, 62, 212, 48, 145, 55, 182, 73, 257, 288, 66, 63, 61, 26, 52, 179, 47, 55, 278, 184, 51, 141, 80, 49, 143, 100, 38, 34, 11, 65, 158, 19, 176, 42, 89, 44, 40, 18, 103, 189, 156, 69, 134, 160, 46, 50, 118, 211, 91, 22, 44, 25, 43, 50, 40, 48, 104, 107, 159, 267, 117, 94, 129, 33, 207, 80, 101, 194, 51, 61, 28, 110, 60, 50, 95, 113, 37, 87, 78, 50, 37, 46, 129, 59, 71, 171, 52, 54, 123, 50, 206, 58, 106, 19, 113, 83, 46, 273, 79, 50, 50, 81, 56, 53, 102, 32, 53, 139, 55, 157, 26, 120, 140, 33, 41, 56, 278, 55, 187, 36, 69, 72, 32, 55, 51, 58, 42, 210, 83, 56, 65, 68, 45, 91, 36, 72, 26, 64, 106, 49, 81, 44, 84, 71, 93, 33, 50, 190, 32, 177, 116, 265, 206, 266, 63, 24, 36, 65, 59, 138, 137, 40, 115, 54, 72, 48, 33, 289, 42, 53, 53, 224, 51, 150, 162, 51, 66, 112, 70, 86, 98, 51, 180, 45, 82, 231, 276, 274, 154, 62, 225, 56, 46, 103, 97, 30, 48, 43, 158, 130, 53, 35, 102, 91, 143, 76, 89, 35, 47, 36, 231, 296, 20, 278, 149, 197, 85, 41, 48, 49, 89, 175, 75, 85, 46, 54, 40, 112, 171, 105, 168, 113, 82, 45, 137, 64, 39, 45, 54, 48, 213, 29, 114, 49, 90, 270, 255, 121, 54, 52, 51, 63, 183, 32, 60, 297, 144, 90, 170, 173, 218, 52, 105, 69, 43, 70, 59, 93, 62, 284, 31, 77, 46, 267, 170, 46, 34, 196, 70, 62, 55, 59, 183, 15, 103, 250, 141, 204, 46, 79, 217, 75, 84, 159, 28, 55, 52, 50, 92, 68, 50, 227, 51, 62, 176, 152, 117, 66, 117, 41, 131, 70, 149, 119, 39, 90, 45, 67, 47, 140, 59, 44, 47, 61, 162, 87, 254, 71, 207, 104, 45, 57, 108, 108, 236, 33, 88, 41, 46, 71, 93, 34, 66, 212, 131, 232, 149, 84, 55, 116, 26, 214, 74, 31, 84, 27, 94, 39, 91, 92, 63, 52, 45, 145, 45, 58, 50, 62, 57, 99, 94, 174, 54, 35, 33, 47, 108, 90, 107, 67, 169, 179, 186, 44, 89, 98, 63, 130, 70, 128, 43, 139, 51, 195, 49, 46, 97, 87, 70, 81, 157, 52, 37, 119, 75, 61, 46, 96, 28, 161, 65, 203, 53, 50, 55, 83, 136, 37, 52, 29, 75, 56, 50, 49, 59, 89, 59, 25, 193, 296, 66, 51, 172, 77, 40, 32, 58, 54, 46, 205, 23, 145, 49, 116, 208, 87, 34, 108, 38, 214, 165, 53, 214, 55, 90, 143, 282, 235, 78, 107, 189, 51, 38, 63, 49, 49, 105, 49, 46, 199, 34, 40, 62, 122, 36, 135, 186, 129, 32, 38, 43, 36, 49, 67, 291, 178, 43, 193, 60, 57, 290, 71, 123, 135, 43, 142, 229, 50, 61, 178, 85, 51, 33, 88, 97, 45, 54, 62, 96, 162, 126, 48, 46, 55, 34, 73, 198, 191, 44, 35, 213, 51, 45, 54, 80, 18, 167, 35, 47, 72, 233, 93, 41, 61, 56, 74, 142, 173, 46, 47, 174, 92, 60, 57, 105, 59, 231, 54, 55, 83, 57, 77, 81, 140, 118, 100, 109, 50, 98, 23, 62, 256, 275, 32, 21, 54, 88, 206, 42, 148, 83, 28, 47, 49, 62, 52, 103, 50, 34, 57, 76, 80, 52, 43, 44, 89, 47, 68, 73, 92, 54, 67, 41, 47, 100, 67, 84, 160, 53, 77, 64, 62, 53, 188, 122, 32, 40, 55, 275, 65, 71, 37, 126, 65, 76, 149, 76, 39, 47, 156, 93, 53, 106, 60, 144, 109, 64, 56, 49, 60, 53, 94, 55, 52, 105, 87, 42, 47, 212, 58, 84, 214, 80, 49, 56, 47, 60, 41, 200, 54, 148, 50, 69, 124, 178, 113, 60, 144, 276, 127, 53, 67, 96, 129, 77, 31, 53, 131, 53, 42, 37, 50, 63, 89, 50, 63, 74, 41, 41, 111, 87, 39, 100, 145, 53, 35, 65, 36, 194, 162, 82, 135, 61, 46, 61, 86, 276, 165, 73, 76, 61, 85, 124, 161, 129, 100, 34, 59, 50, 102, 47, 95, 54, 57, 54, 57, 23, 54, 299, 47, 49, 54, 69, 125, 73, 259, 220, 108, 124, 60, 36, 154, 33, 72, 69, 46, 261, 293, 128, 74, 140, 56, 48, 157, 170, 118, 290, 114, 62, 77, 138, 70, 61, 63, 82, 49, 94, 48, 105, 145, 63, 59, 50, 58, 133, 211, 47, 33, 80, 54, 59, 100, 42, 46, 102, 52, 88, 86, 32, 32, 96, 52, 101, 74, 98, 50, 63, 71, 60, 65, 66, 102, 39, 214, 104, 22, 48, 88, 63, 57, 30, 175, 163, 49, 56, 92, 49, 38, 124, 38, 44, 42, 59, 134, 92, 71, 47, 26, 50, 71, 140, 107, 75, 62, 122, 237, 212, 123, 173, 180, 193, 40, 40, 43, 52, 53, 79, 113, 43, 53, 146, 153, 167, 152, 192, 246, 175, 62, 50, 64, 93, 54, 62, 52, 71, 98, 46, 36, 61, 123, 173, 71, 261, 138, 219, 210, 106, 170, 279, 169, 54, 55, 164, 38, 192, 71, 72, 42, 33, 296, 229, 34, 206, 105, 103, 43, 82, 72, 72, 62, 67, 65, 69, 67, 107, 177, 125, 205, 123, 196, 46, 37, 137, 112, 60, 71, 264, 76, 96, 34, 51, 36, 48, 64, 42, 42, 51, 54, 194, 38, 55, 108, 50, 24, 131, 181, 198, 80, 69, 43, 224, 47, 33, 61, 45, 115, 65, 231, 168, 33, 33, 51, 46, 40, 109, 31, 46, 150, 92, 70, 102, 20, 179, 136, 228, 20, 93, 57, 164, 42, 56, 33, 60, 48, 89, 103, 52, 31, 175, 215, 51, 98, 151, 39, 125, 71, 63, 199, 114, 78, 128, 179, 135, 62, 114, 119, 77, 111, 28, 40, 66, 47, 68, 182, 54, 40, 34, 43, 129, 62, 27, 95, 40, 140, 46, 62, 282, 77, 114, 122, 33, 38, 66, 100, 51, 26, 58, 76, 51, 32, 44, 33, 209, 78, 93, 82, 299, 31, 57, 112, 157, 34, 56, 36, 52, 47, 58, 78, 218, 184, 230, 47, 46, 52, 41, 67, 62, 98, 56, 51, 75, 51, 58, 36, 289, 145, 137, 122, 280, 147, 195, 158, 96, 96, 94, 50, 144, 47, 62, 37, 150, 49, 92, 36, 136, 65, 50, 125, 61, 56, 70, 51, 51, 115, 55, 58, 37, 35, 188, 40, 65, 133, 73, 41, 46, 99, 48, 119, 71, 42, 285, 53, 39, 65, 39, 47, 35, 287, 168, 44, 89, 47, 127, 48, 85, 260, 225, 65, 58, 60, 61, 59, 44, 66, 122, 37, 48, 124, 31, 21, 61, 237, 42, 213, 51, 57, 238, 178, 165, 122, 216, 182, 107, 161, 111, 68, 55, 54, 71, 40, 39, 22, 134, 293, 60, 41, 49, 31, 63, 41, 52, 51, 32, 28, 137, 31, 47, 153, 68, 56, 120, 118, 70, 107, 112, 100, 267, 114, 99, 66, 194, 40, 232, 60, 107, 83, 134, 150, 33, 43, 160, 112, 39, 46, 51, 18, 56, 56, 22, 266, 100, 41, 85, 94, 209, 56, 30, 76, 152, 74, 75, 87, 56, 34, 178, 40, 54, 69, 188, 88], \"xaxis\": \"x\", \"yaxis\": \"y\"}, {\"alignmentgroup\": \"True\", \"bingroup\": \"x\", \"hoverlabel\": {\"namelength\": 0}, \"hovertemplate\": \"color=5<br>x=%{x}<br>count=%{y}\", \"legendgroup\": \"color=5\", \"marker\": {\"color\": \"#00cc96\", \"opacity\": 0.7}, \"name\": \"color=5\", \"nbinsx\": 40, \"offsetgroup\": \"color=5\", \"orientation\": \"v\", \"showlegend\": true, \"type\": \"histogram\", \"x\": [258, 127, 66, 50, 52, 101, 65, 98, 96, 158, 143, 57, 172, 31, 106, 36, 174, 97, 88, 206, 206, 46, 103, 141, 122, 83, 86, 65, 71, 57, 68, 199, 66, 85, 211, 258, 115, 30, 72, 283, 72, 276, 47, 142, 54, 112, 79, 88, 175, 43, 45, 39, 85, 131, 34, 56, 68, 91, 109, 73, 97, 247, 51, 58, 179, 52, 108, 136, 278, 122, 145, 73, 75, 69, 35, 81, 225, 60, 124, 58, 88, 268, 82, 294, 216, 218, 206, 292, 28, 146, 216, 61, 294, 125, 259, 101, 298, 85, 100, 288, 79, 166, 50, 42, 118, 255, 47, 97, 102, 211, 64, 181, 66, 115, 182, 103, 122, 112, 256, 165, 137, 282, 139, 230, 39, 123, 182, 141, 228, 94, 79, 266, 97, 89, 198, 88, 172, 73, 212, 115, 112, 173, 69, 82, 79, 62, 284, 134, 88, 74, 126, 187, 240, 238, 63, 72, 76, 123, 48, 240, 62, 137, 27, 62, 135, 78, 148, 202, 145, 25, 86, 123, 40, 46, 62, 115, 86, 167, 54, 63, 204, 172, 65, 15, 129, 81, 44, 97, 55, 48, 44, 74, 162, 94, 137, 142, 233, 247, 124, 45, 234, 154, 226, 57, 72, 50, 41, 56, 58, 233, 109, 45, 168, 259, 54, 67, 53, 68, 83, 102, 91, 202, 144, 60, 64, 118, 67, 48, 154, 39, 201, 34, 101, 289, 64, 39, 77, 70, 109, 202, 54, 163, 198, 67, 42, 273, 48, 36, 89, 96, 131, 47, 122, 157, 124, 268, 142, 250, 207, 246, 72, 61, 79, 33, 87, 214, 177, 197, 77, 140, 52, 76, 133, 249, 92, 115, 145, 140, 62, 18, 101, 86, 34, 75, 228, 138, 116, 170, 48, 46, 147, 220, 67, 135, 56, 100, 78, 234, 43, 35, 102, 47, 291, 284, 46, 162, 133, 127, 257, 203, 148, 44, 52, 175, 77, 102, 189, 91, 171, 188, 298, 150, 202, 52, 289, 185, 190, 83, 72, 124, 273, 75, 227, 91, 212, 59, 54, 80, 74, 121, 114, 55, 198, 71, 142, 113, 104, 96, 137, 166, 200, 70, 101, 145, 70, 57, 135, 227, 178, 44, 42, 153, 135, 288, 139, 61, 51, 167, 175, 221, 106, 59, 22, 58, 126, 128, 166, 290, 243, 112, 49, 37, 118, 83, 57, 218, 166, 130, 244, 48, 220, 187, 113, 280, 186, 295, 293, 123, 90, 61, 180, 66, 85, 93, 64, 190, 90, 76, 206, 58, 94, 84, 76, 60, 108, 158, 62, 69, 234, 129, 60, 248, 195, 109, 60, 51, 104, 195, 78, 45, 67, 109, 42, 55, 290, 203, 213, 44, 68, 104, 211, 42, 204, 188, 97, 133, 239, 260, 115, 90, 76, 53, 33, 40, 69, 53, 276, 236, 73, 196, 79, 243, 160, 293, 90, 109, 64, 154, 265, 116, 149, 167, 287, 49, 208, 33, 55, 124, 182, 303, 25, 76, 160, 163, 148, 299, 274, 62, 151, 96, 76, 295, 50, 51, 112, 77, 64, 40, 270, 70, 221, 36, 50, 49, 93, 206, 111, 207, 89, 75, 103, 30, 120, 191, 39, 196, 280, 125, 82, 77, 56, 123, 112, 88, 30, 209, 211, 298, 43, 109, 35, 122, 286, 126, 171, 277, 105, 222, 54, 200, 76, 137, 107, 108, 30, 60, 43, 68, 204, 244, 87, 44, 49, 282, 98, 161, 101, 54, 46, 52, 75, 189, 196, 107, 68, 210, 115, 201, 34, 170, 118, 122, 48, 49, 136, 269, 145, 67, 194, 31, 50, 217, 213, 73, 81, 93, 155, 94, 149, 260, 212, 97, 268, 187, 42, 53, 97, 95, 79, 152, 28, 204, 217, 79, 62, 87, 201, 94, 105, 193, 211, 93, 67, 74, 134, 147, 133, 142, 66, 153, 53, 74, 119, 86, 277, 230, 121, 77, 65, 267, 128, 177, 113, 213, 24, 103, 128, 79, 36, 204, 74, 51, 30, 97, 120, 107, 46, 113, 295, 103, 120, 56, 88, 74, 59, 74, 63, 217, 151, 72, 152, 60, 77, 57, 28, 296, 116, 186, 34, 51, 190, 112, 165, 58, 146, 49, 271, 273, 160, 77, 63, 152, 53, 134, 39, 122, 80, 245, 50, 221, 57, 179, 104, 121, 175, 164, 155, 46, 38, 40, 75, 186, 43, 89, 120, 92, 92, 24, 67, 56, 120, 53, 32, 192, 280, 50, 77, 126, 114, 176, 33, 137, 69, 207, 295, 62, 145, 57, 49, 187, 112, 114, 233, 75, 63, 113, 195, 248, 147, 55, 221, 54, 279, 113, 195, 37, 259, 236, 45, 96, 103, 98, 33, 60, 71, 265, 229, 295, 55, 149, 98, 98, 228, 150, 127, 176, 166, 165, 27, 124, 52, 258, 65, 167, 107, 74, 141, 50, 91, 57, 51, 28, 108, 54, 75, 270, 227, 132, 200, 88, 104, 74, 182, 68, 107, 74, 293, 227, 61, 119, 28, 94, 187, 62, 147, 85, 92, 260, 168, 54, 104, 51, 201, 41, 149, 199, 133, 198, 21, 31, 47, 53, 69, 76, 120, 42, 43, 46, 97, 49, 34, 167, 225, 43, 186, 246, 65, 232, 171, 224, 147, 222, 295, 244, 33, 243, 115, 199, 144, 144, 40, 128, 269, 205, 99, 54, 173, 59, 51, 41, 33, 76, 149, 262, 181, 125, 77, 300, 88, 42, 202, 134, 196, 201, 50, 201, 30, 74, 60, 249, 48, 58, 278, 120, 40, 32, 95, 51, 195, 82, 151, 240, 51, 173, 173, 91, 89, 83, 225, 106, 132, 39, 165, 88, 50, 115, 178, 98, 136, 37, 57, 57, 121, 267, 146, 80, 62, 36, 111, 46, 223, 55, 224, 83, 295, 96, 152, 164, 79, 64, 63, 63, 82, 82, 261, 112, 157, 76, 250, 181, 297, 71, 54, 142, 58, 60, 45, 241, 88, 156, 70, 297, 25, 87, 109, 45, 295, 51, 72, 71, 59, 208, 40, 157, 32, 36, 281, 48, 203, 56, 47, 206, 53, 61, 180, 275, 95, 44, 128, 79, 47, 87, 49, 60, 151, 225, 138, 167, 82, 84, 284, 245, 126, 230, 142, 55, 196, 61, 49, 166, 49, 239, 122, 207, 240, 267, 130, 39, 223, 91, 41, 187, 104, 263, 144, 78, 141, 237, 196, 67, 240, 128, 155, 215, 91, 99, 51, 69, 179, 149, 123, 136, 102, 68, 147, 71, 241, 203, 147, 195, 43, 91, 224, 186, 121, 208, 213, 156, 132, 274, 39, 68, 40, 296, 44, 64, 195, 140, 106, 188, 148, 72, 174, 72, 48, 89, 44, 156, 234, 62, 115, 166, 77, 129, 122, 59, 222, 177, 169, 252, 279, 102, 63, 33, 168, 86, 48, 271, 70, 46, 76, 26, 49, 24, 207, 281, 44, 45, 132, 60, 53, 152, 192, 299, 131, 124, 171, 43, 34, 219, 62, 237, 299, 89, 72, 199, 99, 126, 17, 100, 58, 57, 97, 237, 71, 182, 182, 140, 61, 87, 94, 122, 269, 131, 82, 181, 159, 54, 292, 147, 124, 79, 245, 283, 94, 58, 74, 240, 228, 48, 32, 80, 69, 131, 62, 26, 82, 55, 63, 199, 94, 53, 51, 161, 91, 104, 119, 32, 198, 69, 97, 101, 135, 61, 78, 167, 190, 126, 179, 41, 104, 71, 53, 50, 129, 105, 31, 104, 104, 239, 84, 98, 299, 47, 62, 203, 108, 68, 81, 178, 116, 288, 300, 179, 161, 248, 55, 180, 170, 70, 193, 43, 287, 102, 213, 263, 40, 95, 91, 54, 201, 154, 41, 36, 216, 55, 166, 51, 182, 151, 227, 123, 56, 93, 42, 36, 96, 184, 141, 120, 125, 136, 81, 141, 294, 135, 265, 170, 40, 96, 203, 69, 59, 64, 63, 43, 46, 278, 171, 66, 189, 41, 87, 300, 105, 58, 158, 90, 75, 231, 59, 134, 143, 70, 47, 172, 132, 80, 83, 52, 90, 62, 129, 90, 118, 152, 157, 102, 84, 228, 42, 151, 104, 91, 42, 84, 185, 76, 138, 200, 64, 76, 91, 48, 76, 104, 78, 56, 112, 248, 93, 299, 48, 43, 137, 115, 136, 187, 252, 154, 47, 54, 96, 41, 113, 32, 41, 92, 58, 210, 121, 178, 43, 58, 43, 65, 66, 163, 36, 89, 97, 119, 175, 153, 53, 94, 107, 40, 196, 63, 211, 238, 76, 91, 269, 183, 64, 130, 78, 75, 58, 51, 106, 67, 27, 48, 203, 85, 50, 115, 114, 57, 195, 115, 263, 57, 112, 278, 178, 194, 63, 48, 245, 135, 261, 41, 164, 64, 264, 51, 23, 77, 93, 228, 123, 110, 273, 38, 181, 243, 69, 64, 80, 98, 54, 139, 154, 37, 77, 289, 31, 157, 98, 182, 98, 47, 82, 43, 60, 183, 75, 43, 50, 196, 266, 140, 40, 235, 117, 41, 158, 47, 40, 209, 162, 104, 270, 53, 245, 53, 85, 46, 228, 103, 148, 267, 129, 57, 244, 207, 131, 170, 73, 40, 30, 43, 78, 66, 20, 105, 47, 60, 59, 145, 71, 80, 118, 80, 96, 54, 134, 67, 43, 300, 73, 147, 219, 118, 69, 253, 76, 161, 169, 173, 136, 78, 107, 133, 69, 74, 56, 31, 152, 122, 33, 80, 101, 108, 189, 38, 95, 228, 53, 147, 75, 294, 171, 200, 236, 141, 114, 71, 136, 99, 70, 66, 182, 282, 201, 225, 229, 219, 70, 89, 223, 78, 68, 53, 39, 274, 150, 47, 138, 102, 36, 217, 141, 196, 144, 236, 266, 201, 133, 191, 38, 102, 187, 50, 81, 74, 283, 79, 66, 88, 167, 40, 56, 38, 21, 250, 158, 127, 147, 174, 163, 151, 66, 247, 71, 121, 72, 55, 54, 65, 238, 49, 136, 216, 188, 35, 286, 136, 62, 135, 72, 58, 141, 99, 80, 79, 165, 79, 170, 108, 131, 82, 133, 73, 54, 153, 139, 158, 44, 85, 104, 285, 64, 249, 37, 76, 239, 233, 270, 41, 85, 42, 129, 168, 183, 45, 158, 260, 117, 38, 198, 53, 90, 264, 42, 135, 64, 141, 41, 118, 157, 52, 49, 18, 236, 58, 78, 300, 190, 97, 181, 94, 284, 51, 266, 49, 45, 100, 62, 251, 248, 268, 63, 115, 68, 159, 46, 236, 136, 148, 76, 150, 143, 272, 48, 158, 62, 131, 58, 83, 50, 113, 93, 154, 246, 169, 171, 77, 76, 71, 64, 79, 49, 138, 266, 172, 204, 214, 24, 285, 145, 65, 45, 290, 44, 34, 251, 189, 87, 148, 97, 178, 118, 110, 47, 222, 55, 72, 217, 128, 284, 76, 214, 183, 156, 69, 140, 51, 226, 212, 49, 48, 61, 269, 224, 79, 34, 53, 63, 71, 88, 72, 262, 47, 288, 161, 44, 54, 272, 48, 61, 50, 246, 53, 54, 241, 122, 299, 59, 116, 166, 49, 37, 274, 137, 70, 58, 136, 146, 85, 260, 204, 96, 228, 120, 43, 84, 100, 25, 72, 31, 22, 51, 220, 97, 267, 58, 134, 74, 63, 66, 38, 136, 141, 188, 72, 91, 237, 53, 148, 103, 61, 211, 174, 92, 225, 124, 174, 28, 195, 96, 35, 59, 169, 108, 84, 278, 246, 115, 65, 23, 287, 50, 77, 147, 263, 297, 52, 117, 74, 114, 46, 110, 62, 104, 70, 112, 130, 76, 118, 50, 76, 219, 67, 217, 263, 73, 230, 94, 47, 84, 158, 155, 34, 52, 28, 50, 99, 72, 260, 110, 114, 62, 161, 70, 122, 107, 177, 56, 51, 60, 57, 220, 150, 50, 63, 55, 125, 158, 57, 52, 132, 107, 220, 275, 169, 56, 156, 53, 151, 171, 267, 59, 54, 56, 166, 27, 40, 291, 46, 188, 42, 143, 33, 73, 97, 121, 179, 189, 141, 123, 138, 111, 135, 169, 47, 159, 230, 40, 49, 50, 63, 96, 55, 180, 69, 39, 151, 39, 271, 86, 49, 97, 234, 50, 110, 64, 140, 58, 175, 46, 76, 61, 55, 122, 32, 82, 52, 96, 234, 44, 65, 183, 84, 71, 189, 118, 62, 49, 36, 65, 198, 62, 56, 119, 97, 114, 216, 53, 84, 83, 270, 84, 132, 43, 242, 142, 76, 217, 89, 61, 212, 146, 81, 165, 39, 190, 212, 124, 48, 150, 76, 67, 58, 41, 164, 42, 210, 75, 157, 120, 72, 203, 92, 113, 140, 198, 54, 254, 60, 249, 59, 193, 230, 91, 252, 119, 153, 166, 69, 31, 52, 81, 226, 87, 67, 64, 122, 223, 45, 300, 202, 166, 48, 141, 74, 51, 124, 260, 61, 81, 92, 298, 71, 232, 112, 225, 77, 117, 128, 296, 124, 152, 196, 36, 217, 117, 33, 33, 178, 87, 81, 175, 166, 29, 73, 37, 254, 55, 131, 55, 177, 133, 60, 110, 255, 207, 247, 110, 210, 246, 73, 132, 81, 78, 121, 179, 214, 136, 159, 109, 117, 66, 98, 98, 299, 130, 63, 83, 134, 98, 139, 87, 176, 42, 229, 172, 82, 170, 136, 61, 129, 71, 108, 57, 159, 50, 167, 208, 93, 102, 183, 88, 233, 154, 243, 217, 63, 193, 32, 35, 56, 196, 93, 182, 90, 214, 207, 242, 150, 251, 163, 245, 138, 171, 297, 97, 288, 68, 230, 150, 38, 100, 77, 22, 120, 30, 90, 53, 52, 41, 111, 188, 157, 110, 115, 86, 31, 66, 216, 60, 249, 269, 82, 101, 47, 176, 37, 88, 133, 39, 152, 32, 87, 87, 71, 115, 56, 135, 127, 109, 244, 66, 131, 66, 134, 148, 71, 83, 197, 96, 140, 51, 65, 220, 47, 136, 191, 85, 135, 120, 148, 68, 42, 121, 37, 281, 25, 112, 70, 56, 105, 36, 46, 60, 268, 165, 263, 149, 253, 226, 40, 56, 100, 56, 63, 46, 44, 27, 296, 48, 112, 126, 189, 183, 73, 81, 294, 31, 43, 58, 52, 43, 207, 60, 280, 194, 127, 85, 270, 59, 58, 66, 265, 97, 119, 65, 142, 197, 228, 46, 71, 170, 67, 179, 210, 240, 220, 278, 64, 53, 70, 207, 48, 129, 44, 178, 238, 31, 114, 144, 85, 85, 74, 124, 68, 299, 72, 60, 38, 147, 54, 109, 204, 193, 169, 158, 37, 200, 167, 21, 58, 156, 109, 151, 64, 221, 114, 237, 46, 91, 233, 187, 257, 197, 78, 99, 198, 103, 124, 112, 50, 59, 169, 259, 133, 253, 50, 70, 82, 47, 151, 296, 300, 140, 52, 52, 267, 176, 37, 47, 53, 243, 52, 227, 47, 214, 175, 185, 55, 105, 210, 35, 72, 118, 121, 265, 49, 47, 142, 63, 102, 71, 118, 222, 75, 266, 57, 197, 99, 202, 61, 97, 223, 274, 130, 106, 160, 114, 65, 214, 68, 55, 154, 105, 35, 281, 148, 172, 205, 72, 261, 116, 67, 49, 44, 81, 49, 229, 65, 54, 52, 43, 63, 117, 160, 119, 55, 299, 155, 65, 214, 69, 93, 216, 180, 54, 134, 66, 63, 98, 216, 189, 39, 187, 43, 62, 56, 124, 42, 179, 77, 75, 124, 98, 299, 134, 53, 53, 107, 149, 191, 203, 37, 91, 168, 151, 203, 81, 50, 221, 151, 195, 38, 109, 55, 172, 62, 299, 72, 73, 47, 38, 257, 68, 95, 51, 237, 29, 114, 135, 106, 70, 146, 153, 75, 80, 172, 43, 244, 87, 45, 139, 75, 198, 252, 170, 66, 57, 150, 56, 256, 73, 127, 267, 281, 179, 64, 72, 116, 82, 179, 172, 184, 31, 57, 225, 81, 41, 295, 84, 114, 30, 298, 66, 296, 36, 282, 52, 115, 145, 62, 103, 108, 264, 135, 194, 184, 70, 170, 66, 136, 237, 106, 49, 238, 35, 102, 128, 85, 189, 33, 82, 283, 70, 51, 36, 287, 80, 231, 164, 159, 119, 155, 104, 106, 51, 212, 243, 290, 46, 281, 180, 25, 183, 77, 145, 45, 301, 143, 41, 44, 279, 295, 128, 43, 128, 50, 112, 69, 48, 63, 48, 67, 181, 110, 45, 100, 58, 214, 224, 216, 153, 33, 46, 70, 134, 242, 299, 92, 108, 180, 142, 107, 90, 56, 39, 50, 34, 76, 41, 93, 253, 155, 67, 118, 150, 152, 116, 77, 46, 165, 140, 95, 114, 53, 275, 142, 114, 126, 55, 72, 166, 109, 150, 102, 62, 242, 249, 55, 51, 59, 198, 234, 51, 185, 267, 128, 222, 81, 148, 147, 200, 55, 103, 50, 59, 209, 50, 137, 50, 113, 186, 157, 208, 97, 51, 91, 65, 36, 129, 75, 60, 181, 55, 88, 138, 73, 214, 255, 63, 245, 100, 271, 37, 121, 167, 28, 216, 49, 46, 278, 146, 187, 187, 283, 277, 278, 61, 75, 36, 189, 45, 84, 54, 92, 98, 69, 32, 167, 166, 45, 35, 298, 222, 159, 162, 45, 79, 211, 66, 103, 30, 26, 101, 44, 144, 83, 92, 75, 101, 167, 164, 222, 78, 49, 73, 34, 85, 89, 196, 195, 102, 114, 224, 92, 256, 44, 222, 106, 65, 164, 72, 115, 90, 300, 157, 108, 151, 139, 190, 45, 39, 73, 56, 159, 74, 55, 73, 284, 144, 169, 54, 85, 47, 115, 146, 212, 146, 61, 162, 83, 64, 44, 178, 122, 106, 54, 276, 229, 106, 120, 54, 22, 251, 184, 202, 33, 253, 232, 229, 60, 50, 110, 113, 262, 147, 74, 203, 87, 53, 130, 70, 287, 295, 45, 278, 127, 300, 138, 74, 289, 156, 193, 65, 172, 77, 261, 261, 86, 113, 185, 37, 45, 154, 208, 60, 214, 281, 61, 53, 175, 196, 138, 237, 220, 73, 106, 156, 183, 143, 124, 196, 174, 213, 64, 179, 254, 146, 104, 48, 83, 51, 300, 275, 117, 62, 71, 73, 49, 173, 125, 40, 257, 43, 43, 143, 77, 80, 35, 85, 52, 198, 95, 95, 157, 164, 62, 127, 43, 131, 164, 51, 209, 298, 49, 202, 142, 159, 140, 48, 135, 52, 222, 76, 202, 56, 184, 115, 134, 49, 207, 42, 111, 164, 127, 91, 84, 77, 96, 58, 79, 48, 47, 74, 216, 65, 81, 75, 75, 180, 40, 72, 41, 192, 274, 35, 59, 293, 209, 106, 108, 77, 69, 108, 183, 96, 215, 99, 33, 87, 95, 116, 54, 46, 99, 72, 156, 162, 215, 83, 248, 169, 298, 57, 39, 112, 104, 47, 37, 107, 81, 210, 91, 90, 153, 92, 181, 60, 25, 146, 99, 89, 147, 92, 70, 80, 59, 67, 65, 53, 58, 189, 93, 76, 285, 147, 184, 191, 286, 191, 43, 157, 135, 48, 58, 42, 72, 184, 88, 254, 46, 228, 192, 67, 175, 73, 41, 117, 51, 113, 113, 203, 100, 72, 127, 109, 32, 216, 195, 46, 41, 90, 215, 85, 32, 57, 113, 67, 51, 72, 211, 99, 64, 238, 100, 162, 51, 67, 185, 96, 27, 32, 62, 158, 274, 96, 67, 136, 285, 107, 160, 51, 50, 60, 181, 54, 56, 65, 141, 205, 44, 153, 34, 235, 33, 178, 37, 142, 261, 88, 104, 65, 90, 167, 205, 39, 135, 93, 168, 160, 93, 77, 157, 65, 92, 41, 208, 32, 43, 78, 40, 111, 65, 57, 300, 136, 91, 105, 84, 67, 157, 159, 223, 36, 49, 190, 51, 178, 160, 137, 100, 202, 170, 36, 225, 91, 66, 79, 131, 28, 114, 138, 50, 45, 54, 129, 157, 71, 151, 113, 294, 80, 138, 299, 77, 37, 55, 192, 64, 78, 160, 78, 81, 193, 86, 113, 33, 63, 152, 27, 138, 154, 160, 122, 114, 97, 92, 35, 277, 272, 46, 267, 285, 63, 113, 70, 60, 103, 297, 37, 259, 48, 215, 34, 159, 154, 39, 43, 178, 44, 144, 41, 63, 44, 77, 114, 87, 55, 49, 142, 186, 137, 127, 287, 93, 63, 154, 148, 51, 265, 212, 113, 49, 235, 125, 134, 89, 55, 199, 180, 232, 40, 206, 261, 54, 97, 66, 150, 185, 55, 235, 46, 57, 132, 136, 198, 120, 168, 241, 39, 56, 38, 264, 35, 73, 270, 61, 151, 108, 142, 44, 135, 258, 127, 190, 44, 163, 47, 48, 56, 82, 95, 117, 286, 70, 184, 134, 185, 103, 204, 82, 52, 122, 65, 186, 88, 74, 38, 292, 204, 56, 57, 144, 86, 219, 204, 201, 162, 86, 112, 76, 53, 194, 84, 38, 102, 197, 31, 63, 220, 45, 210, 71, 298, 113, 291, 97, 151, 59, 51, 164, 143, 249, 150, 107, 106, 169, 45, 176, 118, 281, 148, 126, 122, 51, 57, 131, 56, 210, 80, 77, 78, 117, 64, 168, 61, 79, 69, 104, 45, 90, 260, 261, 107, 61, 113, 25, 158, 162, 71, 286, 50, 63, 166, 147, 112, 104, 247, 48, 151, 38, 84, 59, 203, 47, 128, 293, 90, 161, 140, 227, 96, 84, 56, 26, 224, 220, 66, 35, 141, 74, 45, 83, 66, 200, 33, 213, 46, 161, 77, 78, 190, 132, 148, 232, 87, 197, 26, 125, 125, 40, 54, 37, 60, 65, 120, 257, 243, 76, 258, 45, 47, 109, 49, 68, 86, 38, 75, 48, 56, 89, 70, 259, 73, 300, 193, 136, 169, 219, 164, 78, 42, 260, 109, 173, 183, 53, 47, 101, 101, 207, 129, 86, 40, 64, 54, 46, 68, 50, 81, 297, 100, 67, 25, 174, 75, 236, 63, 36, 45, 90, 99, 62, 69, 223, 109, 227, 111, 212, 73, 63, 115, 73, 79, 130, 176, 61, 62, 278, 111, 92, 241, 64, 47, 113, 83, 229, 300, 250, 110, 45, 227, 114, 192, 234], \"xaxis\": \"x\", \"yaxis\": \"y\"}, {\"alignmentgroup\": \"True\", \"bingroup\": \"x\", \"hoverlabel\": {\"namelength\": 0}, \"hovertemplate\": \"color=3<br>x=%{x}<br>count=%{y}\", \"legendgroup\": \"color=3\", \"marker\": {\"color\": \"#ab63fa\", \"opacity\": 0.7}, \"name\": \"color=3\", \"nbinsx\": 40, \"offsetgroup\": \"color=3\", \"orientation\": \"v\", \"showlegend\": true, \"type\": \"histogram\", \"x\": [83, 166, 221, 52, 97, 79, 53, 73, 47, 283, 195, 136, 149, 207, 172, 47, 75, 46, 51, 165, 221, 124, 125, 139, 118, 35, 157, 51, 51, 77, 36, 58, 83, 143, 42, 44, 35, 127, 66, 55, 146, 57, 117, 270, 111, 94, 41, 98, 257, 128, 65, 99, 98, 63, 106, 156, 65, 59, 39, 231, 245, 252, 82, 220, 46, 142, 36, 53, 31, 69, 137, 51, 228, 232, 96, 47, 214, 58, 43, 67, 267, 41, 110, 165, 52, 78, 62, 128, 187, 97, 79, 49, 239, 211, 151, 123, 47, 58, 257, 193, 47, 271, 48, 67, 67, 124, 60, 105, 101, 46, 135, 50, 259, 35, 33, 51, 139, 74, 96, 70, 100, 104, 106, 38, 164, 72, 38, 82, 67, 122, 58, 88, 41, 61, 78, 297, 76, 45, 53, 116, 251, 134, 35, 286, 44, 60, 130, 210, 148, 72, 76, 48, 180, 71, 44, 66, 96, 47, 138, 248, 44, 127, 220, 130, 107, 145, 112, 76, 45, 267, 65, 82, 47, 34, 219, 126, 32, 53, 123, 29, 276, 56, 137, 205, 63, 30, 60, 126, 70, 31, 109, 78, 104, 297, 42, 90, 61, 46, 49, 160, 58, 240, 255, 68, 46, 215, 41, 51, 127, 129, 65, 87, 41, 70, 122, 119, 59, 169, 54, 150, 224, 59, 209, 77, 38, 63, 67, 62, 93, 125, 150, 273, 50, 39, 46, 86, 64, 76, 112, 34, 90, 241, 184, 68, 85, 198, 79, 54, 214, 101, 98, 56, 60, 53, 230, 34, 88, 186, 85, 235, 58, 209, 53, 147, 154, 188, 71, 209, 55, 38, 59, 162, 74, 270, 153, 297, 174, 278, 74, 130, 134, 178, 135, 54, 143, 147, 220, 189, 166, 33, 99, 95, 139, 73, 56, 183, 25, 47, 168, 56, 187, 64, 134, 105, 121, 135, 94, 246, 64, 150, 182, 55, 76, 119, 64, 245, 177, 208, 226, 117, 184, 91, 50, 52, 47, 110, 141, 46, 81, 38, 108, 42, 58, 152, 181, 78, 74, 184, 47, 127, 52, 278, 240, 188, 235, 53, 66, 110, 47, 63, 174, 70, 62, 206, 75, 283, 46, 90, 52, 67, 36, 70, 64, 243, 41, 72, 46, 32, 228, 68, 49, 176, 109, 81, 48, 78, 108, 90, 165, 66, 43, 80, 69, 31, 44, 259, 89, 112, 186, 71, 300, 38, 55, 102, 72, 181, 113, 87, 35, 37, 113, 207, 65, 81, 53, 287, 229, 59, 117, 111, 31, 48, 24, 192, 135, 50, 200, 46, 146, 51, 69, 56, 50, 63, 150, 74, 208, 51, 150, 71, 99, 131, 138, 45, 84, 97, 83, 54, 37, 138, 51, 143, 75, 167, 101, 111, 51, 233, 134, 46, 64, 111, 47, 59, 72, 102, 296, 68, 211, 92, 71, 77, 104, 60, 106, 239, 129, 199, 221, 153, 54, 110, 81, 56, 26, 45, 85, 109, 134, 111, 80, 129, 153, 56, 53, 49, 63, 83, 103, 81, 56, 175, 224, 232, 54, 169, 250, 119, 51, 73, 120, 246, 96, 148, 38, 94, 58, 192, 36, 55, 77, 40, 53, 80, 95, 50, 30, 54, 152, 42, 288, 81, 77, 79, 97, 122, 110, 197, 138, 135, 45, 108, 27, 261, 60, 54, 127, 63, 46, 31, 260, 166, 143, 49, 93, 73, 261, 65, 151, 67, 109, 107, 188, 60, 142, 190, 139, 35, 50, 70, 246, 76, 53, 54, 53, 79, 34, 34, 134, 63, 31, 215, 48, 113, 62, 31, 63, 156, 53, 81, 102, 80, 100, 51, 293, 129, 68, 125, 50, 113, 53, 89, 286, 40, 125, 85, 47, 241, 157, 110, 35, 62, 94, 59, 64, 64, 76, 111, 54, 201, 133, 169, 69, 40, 210, 61, 56, 67, 50, 52, 55, 68, 55, 43, 135, 49, 232, 109, 249, 30, 97, 65, 52, 37, 99, 124, 105, 80, 52, 270, 155, 40, 90, 50, 61, 55, 76, 46, 52, 163, 74, 32, 53, 44, 59, 51, 54, 39, 144, 246, 34, 269, 48, 189, 273, 52, 109, 47, 126, 147, 236, 136, 36, 71, 54, 40, 197, 67, 35, 46, 107, 152, 28, 68, 38, 48, 268, 170, 28, 42, 89, 69, 154, 51, 49, 39, 39, 75, 48, 79, 124, 51, 166, 184, 43, 47, 69, 137, 69, 258, 272, 58, 179, 145, 129, 55, 68, 52, 58, 138, 59, 227, 261, 235, 101, 158, 65, 156, 77, 55, 79, 70, 45, 38, 280, 35, 121, 192, 110, 39, 189, 46, 38, 183, 283, 38, 119, 40, 63, 38, 148, 144, 73, 157, 108, 92, 166, 39, 100, 114, 47, 57, 126, 44, 125, 26, 41, 194, 27, 52, 186, 143, 181, 56, 263, 228, 237, 216, 68, 57, 40, 47, 44, 178, 155, 71, 40, 39, 48, 48, 69, 53, 132, 53, 30, 40, 84, 294, 161, 127, 100, 129, 52, 92, 94, 35, 187, 66, 47, 208, 161, 167, 60, 143, 129, 145, 174, 109, 123, 181, 130, 40, 147, 68, 101, 281, 67, 217, 95, 36, 122, 193, 49, 101, 46, 298, 116, 137, 115, 33, 50, 83, 173, 89, 247, 249, 45, 287, 122, 179, 281, 51, 164, 180, 23, 45, 113, 245, 57, 114, 81, 105, 157, 60, 167, 98, 55, 74, 114, 201, 98, 20, 97, 128, 40, 51, 52, 127, 89, 63, 139, 55, 259, 60, 159, 28, 67, 119, 60, 228, 22, 253, 63, 46, 80, 169, 97, 200, 132, 149, 129, 287, 43, 78, 81, 155, 35, 182, 110, 69, 53, 241, 48, 282, 88, 43, 189, 117, 283, 176, 113, 62, 51, 170, 220, 126, 38, 42, 269, 94, 145, 62, 72, 119, 181, 33, 127, 71, 43, 116, 127, 66, 56, 67, 54, 44, 130, 63, 61, 39, 44, 118, 199, 83, 53, 46, 97, 58, 167, 65, 156, 249, 198, 119, 45, 109, 74, 217, 153, 297, 98, 224, 161, 118, 207, 204, 251, 138, 173, 48, 66, 85, 67, 76, 84, 115, 231, 66, 70, 105, 35, 107, 170, 128, 257, 95, 173, 52, 201, 269, 247, 95, 138, 82, 281, 127, 163, 96, 95, 161, 62, 122, 299, 98, 192, 99, 128, 60, 48, 59, 189, 113, 93, 48, 155, 21, 70, 202, 68, 80, 75, 41, 94, 61, 118, 16, 54, 57, 65, 76, 98, 116, 70, 41, 116, 53, 25, 54, 241, 54, 207, 89, 145, 48, 219, 103, 126, 228, 241, 65, 41, 44, 157, 138, 241, 91, 240, 63, 148, 31, 157, 52, 111, 35, 112, 58, 177, 196, 47, 165, 152, 43, 57, 38, 119, 147, 50, 64, 83, 161, 152, 83, 129, 73, 178, 63, 186, 48, 59, 36, 105, 172, 107, 205, 92, 68, 36, 45, 162, 178, 81, 48, 31, 54, 215, 52, 52, 272, 286, 213, 64, 205, 114, 105, 43, 52, 59, 30, 59, 119, 139, 67, 75, 27, 105, 49, 71, 53, 299, 197, 65, 49, 206, 131, 46, 64, 48, 53, 78, 140, 120, 145, 60, 53, 49, 35, 119, 29, 63, 47, 49, 55, 50, 73, 69, 164, 242, 107, 103, 62, 266, 31, 136, 58, 47, 191, 31, 62, 41, 158, 209, 73, 79, 178, 132, 102, 147, 72, 84, 61, 281, 50, 61, 179, 50, 58, 121, 58, 58, 45, 206, 118, 167, 153, 123, 263, 36, 158, 29, 90, 167, 68, 53, 50, 60, 138, 265, 49, 107, 111, 105, 44, 80, 48, 97, 69, 250, 80, 229, 61, 67, 74, 131, 112, 256, 183, 193, 54, 77, 49, 91, 45, 237, 84, 161, 47, 67, 38, 258, 102, 286, 244, 267, 54, 59, 208, 37, 281, 47, 36, 267, 279, 260, 113, 63, 297, 151, 161, 174, 36, 141, 43, 47, 152, 146, 95, 69, 124, 228, 51, 41, 202, 86, 205, 32, 137, 61, 61, 63, 52, 37, 56, 152, 111, 252, 64, 50, 55, 47, 38, 44, 72, 69, 53, 41, 61, 121, 141, 47, 110, 46, 97, 162, 70, 57, 41, 64, 75, 230, 110, 97, 269, 48, 68, 141, 194, 14, 58, 281, 41, 38, 213, 297, 102, 188, 64, 99, 57, 77, 280, 118, 245, 37, 64, 165, 218, 69, 44, 207, 54, 188, 47, 62, 72, 165, 219, 146, 78, 120, 95, 168, 191, 67, 146, 120, 54, 91, 111, 248, 80, 50, 42, 52, 37, 49, 168, 54, 107, 95, 76, 130, 33, 70, 77, 214, 103, 87, 77, 45, 175, 43, 79, 149, 34, 105, 114, 75, 45, 54, 21, 34, 52, 50, 135, 50, 73, 57, 114, 201, 291, 75, 176, 78, 65, 210, 39, 162, 55, 148, 234, 80, 39, 55, 199, 161, 262, 85, 180, 33, 132, 66, 38, 91, 59, 196, 173, 129, 58, 40, 188, 79, 258, 160, 100, 120, 213, 201, 155, 258, 68, 64, 38, 161, 42, 74, 91, 260, 58, 88, 195, 264, 100, 197, 115, 48, 63, 65, 66, 83, 46, 80, 93, 60, 232, 43, 48, 139, 277, 242, 53, 53, 39, 24, 106, 89, 46, 169, 39, 238, 55, 137, 270, 181, 207, 36, 232, 264, 61, 73, 117, 217, 61, 296, 89, 77, 82, 152, 212, 37, 31, 73, 26, 183, 55, 192, 294, 52, 39, 100, 151, 23, 135, 211, 92, 119, 50, 60, 114, 48, 138, 254, 72, 47, 46, 45, 27, 97, 58, 47, 45, 79, 37, 229, 64, 53, 285, 75, 51, 61, 117, 96, 231, 48, 188, 53, 78, 215, 131, 161, 112, 84, 138, 55, 67, 35, 77, 109, 188, 128, 274, 52, 235, 87, 45, 229, 62, 85, 182, 34, 63, 207, 40, 226, 37, 47, 155, 88, 79, 71, 96, 68, 59, 92, 145, 97, 71, 84, 42, 50, 74, 250, 91, 220, 103, 63, 186, 128, 42, 254, 50, 68, 255, 114, 199, 51, 186, 39, 43, 32, 45, 159, 269, 38, 128, 146, 69, 85, 90, 219, 255, 83, 138, 47, 149, 113, 84, 66, 240, 210, 148, 279, 73, 237, 56, 77, 26, 35, 44, 118, 99, 295, 33, 31, 108, 63, 61, 75, 46, 248, 46, 228, 72, 96, 114, 71, 209, 41, 50, 180, 71, 225, 112, 43, 68, 50, 65, 50, 61, 162, 50, 188, 38, 101, 57, 101, 55, 41, 45, 163, 58, 36, 60, 98, 63, 44, 52, 48, 72, 219, 137, 85, 98, 52, 263, 141, 38, 53, 58, 36, 37, 34, 175, 37, 68, 72, 91, 52, 44, 51, 32, 233, 100, 88, 83, 243, 43, 161, 50, 93, 157, 243, 46, 101, 66, 65, 156, 55, 129, 267, 246, 120, 33, 76, 52, 73, 201, 76, 102, 113, 202, 190, 164, 265, 57, 70, 52, 191, 139, 57, 71, 50, 96, 198, 255, 136, 72, 227, 65, 240, 65, 44, 49, 44, 55, 179, 198, 34, 104, 131, 266, 38, 155, 65, 60, 68, 152, 68, 50, 140, 78, 73, 47, 39, 37, 276, 160, 100, 99, 61, 33, 221, 150, 198, 34, 62, 115, 42, 144, 176, 54, 283, 107, 32, 282, 87, 105, 89, 47, 47, 127, 290, 296, 70, 80, 235, 85, 284, 227, 97, 44, 64, 275, 93, 209, 27, 35, 226, 141, 190, 59, 72, 172, 258, 55, 198, 93, 88, 83, 148, 130, 58, 146, 114, 59, 178, 63, 64, 138, 63, 43, 152, 221, 94, 46, 58, 63, 92, 26, 44, 48, 124, 114, 238, 97, 145, 113, 52, 125, 192, 114, 44, 282, 49, 46, 142, 160, 206, 206, 50, 35, 45, 49, 110, 112, 64, 97, 121, 32, 72, 107, 65, 44, 87, 153, 285, 34, 44, 166, 191, 43, 47, 205, 52, 53, 126, 48, 105, 99, 63, 85, 57, 174, 112, 96, 197, 59, 50, 153, 111, 75, 48, 53, 298, 98, 33, 296, 294, 61, 225, 270, 54, 73, 198, 100, 86, 155, 171, 130, 99, 224, 159, 104, 192, 53, 200, 51, 44, 41, 148, 82, 85, 29, 56, 47, 47, 36, 169, 60, 77, 64, 42, 230, 129, 53, 70, 49, 49, 114, 150, 172, 104, 103, 54, 41, 77, 147, 142, 197, 33, 151, 45, 38, 113, 163, 168, 27, 158, 261, 95, 229, 153, 148, 36, 54, 213, 187, 129, 60, 28, 145, 116, 144, 126, 96, 159, 39, 96, 118, 36, 59, 157, 108, 115, 208, 211, 89, 79, 154, 54, 139, 31, 51, 209, 157, 125, 66, 32, 79, 51, 53, 250, 137, 131, 69, 171, 73, 222, 63, 52, 51, 89, 51, 41, 89, 259, 148, 179, 152, 43, 59, 145, 47, 157, 164, 193, 69, 61, 284, 89, 81, 73, 174, 142, 55, 258, 144, 161, 55, 47, 74, 54, 62, 93, 230, 57, 106, 27, 108, 183, 130, 40, 181, 246, 57, 63, 138, 49, 58, 78, 137, 122, 225, 52, 133, 211, 77, 230, 33, 83, 263, 54, 94, 68, 222, 43, 212, 53, 84, 125, 41, 158, 184, 71, 59, 150, 138, 173, 87, 53, 48, 54, 116, 43, 270, 48, 131, 38, 46, 89, 146, 36, 57, 38, 84, 51, 298, 127, 193, 65, 71, 51, 131, 91, 112, 66, 158, 61, 167, 42, 61, 42, 215, 87, 288, 63, 40, 43, 46, 238, 205, 266, 147, 50, 33, 153, 40, 62, 34, 77, 72, 163, 40, 49, 191, 66, 53, 77, 50, 52, 70, 63, 102, 133, 74, 145, 96, 45, 55, 134, 115, 43, 110, 237, 103, 142, 205, 39, 58, 50, 92, 182, 208, 224, 48, 235, 39, 99, 291, 60, 55, 242, 96, 48, 127, 118, 119, 112, 156, 158, 68, 210, 53, 68, 152, 219, 192, 105, 74, 108, 199, 164, 45, 59, 131, 72, 233, 154, 115, 242, 145, 63, 79, 190, 49, 74, 70, 90, 51, 29, 46, 86, 85, 36, 83, 129, 175, 35, 66, 69, 190, 41, 122, 226, 49, 158, 190, 141, 65, 245, 106, 128, 163, 80, 80, 193, 77, 45, 121, 120, 53, 123, 156, 40, 146, 226, 34, 50, 46, 63, 94, 66, 242, 96, 109, 158, 57, 166, 254, 40, 176, 52, 76, 94, 65, 58, 264, 148, 217, 120, 256, 162, 181, 129, 54, 300, 256, 280, 124, 35, 111, 226, 63, 54, 63, 79, 50, 21, 243, 98, 89, 53, 28, 48, 257, 57, 122, 116, 44, 40, 69, 45, 112, 95, 135, 97, 45, 49, 93, 159, 201, 91, 98, 185, 43, 65, 189, 45, 91, 125, 43, 44, 56, 40, 100, 75, 74, 269, 233, 108, 75, 49, 161, 46, 201, 55, 44, 150, 171, 90, 136, 52, 180, 197, 191, 67, 92, 135, 148, 56, 194, 227, 145, 294, 32, 70, 101, 51, 103, 103, 101, 211, 74, 164, 285, 63, 144, 58, 39, 46, 263, 158, 154, 122, 51, 222, 58, 98, 122, 49, 148, 51, 71, 132, 97, 50, 51, 135, 64, 123, 293, 133, 53, 24, 63, 55, 84, 104, 56, 63, 218, 98, 65, 55, 65, 168, 143, 185, 73, 56, 60, 213, 159, 149, 68, 118, 44, 35, 83, 43, 45, 65, 250, 216, 77, 52, 46, 212, 61, 74, 48, 220, 109, 272, 48, 117, 68, 99, 78, 79, 59, 65, 75, 186, 69, 150, 68, 117, 223, 53, 176, 70, 40, 116, 114, 55, 62, 283, 53, 264, 154, 41, 75, 202, 57, 51, 116, 37, 202, 139, 206, 87, 66, 98, 122, 74, 148, 103, 167, 106, 137, 45, 182, 162, 148, 104, 30, 115, 95, 232, 115, 134, 69, 103, 63, 71, 122, 45, 57, 41, 167, 290, 196, 167, 289, 180, 117, 66, 132, 29, 226, 137, 122, 72, 160, 134, 140, 180, 59, 140, 66, 31, 29, 126, 46, 44, 108, 135, 98, 74, 44, 132, 154, 64, 18, 95, 78, 80, 209, 207, 227, 103, 94, 274, 52, 109, 106, 104, 62, 22, 67, 53, 50, 45, 279, 52, 73, 97, 146, 52, 73, 86, 65, 39, 156, 119, 101, 164, 78, 244, 53, 204, 144, 84, 64, 279, 157, 86, 287, 60, 81, 71, 275, 61, 61, 81, 213, 164, 54, 22, 71, 85, 103, 109, 53, 240, 188, 104, 257, 206, 73, 125, 172, 77, 75, 49, 183, 85, 190, 128, 107, 41, 148, 64, 150, 71, 152, 227, 82, 68, 186, 24, 196, 163, 54, 209, 98, 89, 196, 150, 50, 70, 174, 68, 38, 58, 44, 60, 74, 49, 86, 61, 211, 56, 145, 69, 161, 142, 49, 86, 37, 246, 93, 38, 91, 116, 81, 109, 96, 44, 166, 141, 78, 123, 155, 67, 32, 63, 80, 88, 39, 194, 54, 50, 64, 246, 149, 43, 139, 61, 161, 87, 166, 121, 184, 218, 82, 137, 296, 54, 185, 80, 184, 163, 64, 217, 69, 98, 282, 54, 68, 78, 235, 202, 226, 46, 196, 110, 106, 34, 68, 49, 47, 51, 103, 39, 59, 184, 201, 158, 180, 58, 56, 57, 74, 88, 33, 157, 219, 55, 228, 73, 85, 107, 197, 140, 174, 109, 47, 77, 32, 147, 62, 246, 52, 252, 43, 66, 49, 243, 54, 172, 43, 133, 287, 61, 35, 57, 69, 212, 186, 56, 63, 45, 256, 46, 31, 142, 97, 216, 78, 44, 105, 173, 107, 99, 39, 222, 217, 109, 30, 95, 40, 139, 59, 72, 60, 183, 106, 278, 35, 106, 207, 125, 226, 48, 293, 49, 73, 34, 231, 50, 220, 166, 57, 27, 43, 84, 73, 31, 58, 51, 67, 46, 139, 72, 68, 75, 142, 77, 297, 214, 62, 35, 206, 50, 66, 168, 109, 84, 122, 212, 199, 67, 117, 189, 28, 140, 161, 82, 148, 70, 70, 187, 155, 163, 112, 53, 58, 67, 61, 37, 48, 67, 94, 51, 51, 49, 199, 264, 61, 135, 223, 134, 67, 244, 125, 123, 182, 171, 93, 106, 63, 37, 155, 47, 62, 42, 187, 51, 52, 180, 51, 150, 140, 47, 36, 91, 180, 62, 45, 89, 163, 80, 45, 69, 93, 46, 77, 113, 51, 155, 51, 46, 172, 61, 191, 102, 68, 46, 134, 151, 65, 90, 78, 105, 152, 85, 49, 97, 103, 48, 139, 77, 189, 49, 146, 140, 47, 196, 73, 114, 56, 52, 300, 74, 42, 61, 78, 213, 38, 288, 66, 200, 221, 67, 161, 60, 225, 47, 74, 117, 96, 53, 142, 61, 115, 139, 43, 54, 58, 175, 92, 67, 119, 61, 129, 65, 51, 38, 63, 191, 106, 138, 151, 196, 56, 73, 59, 58, 195, 101, 115, 26, 50, 233, 116, 265, 69, 106, 65, 57, 69, 39, 77, 60, 141, 124, 38, 200, 220, 60, 90, 55, 247, 115, 71, 96, 140, 157, 52, 62, 38, 114, 111, 49, 42, 212, 120, 103, 57, 90, 25, 87, 91, 68, 153, 28, 217, 160, 51, 74, 96, 132, 46, 170, 70, 176, 56, 99, 62, 107, 51, 156, 170, 154, 61, 72, 242, 97, 63, 138, 69, 141, 76, 102, 179, 283, 63, 257, 195, 57, 85, 64, 69, 239, 89, 50, 295, 166, 172, 114, 108, 41, 53, 29, 46, 264, 57, 92, 215, 154, 76, 74, 102, 48, 298, 193, 106, 52, 214, 252, 81, 97, 83, 213, 72, 254, 54, 34, 42, 164, 54, 79, 103, 57, 93, 47, 36, 26, 183, 84, 161, 58, 71, 46, 35, 67, 221, 55, 178, 60, 236, 188, 144, 202, 35, 44, 286, 96, 64, 50, 51, 176, 135, 195, 107, 232, 113, 60, 121, 87, 107, 204, 64, 48, 283, 81, 52, 139, 28, 38, 75, 187, 219, 116, 35, 109, 49, 130, 42, 81, 181, 252, 213, 97, 297, 48, 78, 36, 42, 22, 109, 95, 93, 52, 46, 99, 50, 89, 49, 96, 35, 68, 81, 55, 54, 74, 123, 63, 99, 37, 104, 256, 181, 117, 82, 22, 194, 46, 44, 255, 108, 210, 36, 79, 249, 49, 269, 79, 71, 34, 94, 55, 207, 279, 67, 58, 98, 30, 35, 37, 76, 91, 30, 43, 28, 179, 47, 144, 75, 82, 52, 65, 77, 41, 135, 286, 172, 193, 154, 237, 280, 64, 300, 81, 96, 154, 124, 48, 108, 117, 45, 67, 40, 239, 23, 106, 159, 153, 75, 40, 119, 122, 154, 33, 54, 89, 81, 49, 56, 256, 44, 133, 87, 158, 180, 56, 61, 85, 46, 136, 192, 60, 71, 45, 47, 97, 71, 29, 131, 150, 133, 146, 166, 259, 224, 38, 66, 60, 140, 69, 145, 32, 246, 33, 44, 46, 76, 144, 52, 33, 118, 246, 43, 51, 283, 117, 188, 63, 94, 60, 115, 94, 48, 31, 82, 148, 299, 99, 172, 116, 291, 161, 38, 34, 117, 64, 223, 42, 88, 101, 67, 63, 171, 133, 255, 53, 51, 176, 47, 125, 54, 49, 49, 59, 119, 81, 116, 193, 71, 230, 50, 95, 109, 52, 158, 122, 278, 40, 185, 57, 219, 35, 162, 127, 196, 143, 57, 190, 274, 104, 93, 196, 146, 53, 58, 78, 116, 133, 113, 83, 46, 83, 285, 144, 65, 146, 192, 101, 154, 49, 80, 73, 87, 41, 73, 148, 106, 199, 86, 108, 44, 109, 48, 40, 118, 45, 121, 36, 40, 119, 78, 37, 198, 28, 116, 289, 80, 248, 45, 135, 90, 292, 146, 125, 131, 54, 147, 65, 39, 77, 43, 47, 29, 76, 54, 200, 55, 42, 80], \"xaxis\": \"x\", \"yaxis\": \"y\"}, {\"alignmentgroup\": \"True\", \"bingroup\": \"x\", \"hoverlabel\": {\"namelength\": 0}, \"hovertemplate\": \"color=4<br>x=%{x}<br>count=%{y}\", \"legendgroup\": \"color=4\", \"marker\": {\"color\": \"#FFA15A\", \"opacity\": 0.7}, \"name\": \"color=4\", \"nbinsx\": 40, \"offsetgroup\": \"color=4\", \"orientation\": \"v\", \"showlegend\": true, \"type\": \"histogram\", \"x\": [42, 63, 56, 91, 60, 75, 212, 61, 190, 43, 53, 144, 180, 85, 188, 62, 53, 198, 266, 250, 251, 37, 129, 199, 85, 70, 157, 105, 44, 43, 56, 94, 87, 297, 65, 167, 218, 77, 91, 217, 53, 36, 135, 234, 222, 58, 60, 34, 196, 80, 39, 151, 91, 124, 159, 86, 100, 74, 157, 44, 83, 55, 106, 34, 55, 82, 46, 39, 282, 106, 150, 165, 53, 47, 38, 118, 183, 70, 97, 57, 50, 81, 40, 121, 61, 89, 134, 94, 25, 114, 69, 175, 251, 57, 75, 35, 59, 39, 84, 117, 109, 182, 56, 57, 294, 53, 53, 70, 102, 32, 175, 206, 40, 57, 92, 47, 224, 100, 91, 77, 99, 119, 159, 126, 43, 72, 144, 40, 75, 116, 29, 139, 88, 67, 127, 95, 110, 296, 51, 173, 47, 58, 160, 67, 79, 289, 54, 63, 82, 24, 27, 84, 168, 290, 199, 299, 37, 52, 91, 187, 159, 174, 261, 203, 139, 56, 69, 36, 187, 106, 36, 57, 57, 70, 77, 57, 108, 136, 205, 66, 162, 261, 72, 72, 43, 125, 133, 64, 133, 95, 82, 170, 78, 39, 190, 165, 41, 158, 192, 66, 100, 108, 133, 42, 53, 54, 225, 46, 134, 44, 136, 76, 46, 197, 92, 89, 126, 41, 56, 106, 134, 34, 49, 134, 76, 54, 76, 29, 29, 118, 34, 62, 190, 42, 291, 287, 80, 211, 68, 151, 58, 199, 64, 72, 269, 61, 192, 43, 64, 173, 75, 120, 75, 262, 199, 172, 217, 118, 259, 58, 36, 108, 45, 99, 120, 131, 253, 224, 135, 79, 144, 249, 94, 83, 173, 115, 105, 44, 28, 147, 81, 24, 193, 212, 66, 60, 52, 48, 56, 95, 36, 114, 249, 117, 64, 133, 175, 59, 41, 110, 101, 296, 51, 212, 147, 216, 45, 36, 46, 81, 27, 52, 213, 137, 160, 69, 247, 131, 123, 187, 79, 39, 65, 60, 46, 210, 59, 60, 97, 132, 39, 26, 65, 153, 297, 83, 134, 120, 104, 57, 50, 267, 198, 44, 36, 57, 39, 130, 175, 37, 275, 47, 63, 115, 51, 40, 194, 195, 40, 202, 48, 106, 245, 89, 191, 137, 72, 54, 51, 40, 162, 275, 82, 53, 56, 49, 166, 162, 111, 282, 40, 41, 25, 161, 249, 52, 68, 37, 78, 127, 63, 134, 285, 255, 176, 166, 31, 158, 60, 284, 105, 58, 145, 78, 154, 130, 86, 58, 46, 114, 50, 43, 93, 201, 182, 60, 177, 172, 118, 150, 47, 93, 62, 53, 53, 91, 114, 37, 55, 51, 192, 49, 43, 232, 44, 121, 220, 266, 35, 52, 106, 26, 139, 33, 147, 299, 68, 62, 74, 40, 61, 53, 69, 23, 140, 36, 241, 147, 242, 142, 61, 45, 65, 101, 300, 174, 54, 77, 194, 192, 133, 56, 60, 224, 90, 264, 41, 76, 96, 239, 44, 55, 46, 207, 54, 234, 98, 75, 41, 115, 135, 123, 154, 117, 42, 55, 171, 36, 46, 148, 293, 70, 42, 85, 206, 237, 63, 103, 60, 111, 38, 111, 126, 192, 112, 66, 90, 228, 118, 129, 216, 72, 93, 113, 90, 44, 71, 44, 32, 260, 67, 110, 112, 91, 215, 93, 162, 92, 53, 149, 38, 36, 175, 154, 114, 195, 53, 50, 82, 122, 68, 60, 129, 108, 87, 143, 64, 48, 41, 89, 37, 69, 60, 223, 123, 129, 119, 57, 50, 149, 86, 91, 59, 38, 42, 48, 68, 118, 95, 146, 64, 121, 29, 252, 234, 63, 48, 217, 268, 112, 49, 61, 170, 86, 62, 157, 61, 66, 103, 34, 127, 27, 122, 99, 133, 239, 100, 300, 55, 68, 128, 50, 82, 267, 263, 59, 33, 43, 120, 81, 98, 86, 81, 48, 41, 70, 138, 115, 70, 299, 226, 262, 266, 58, 113, 174, 226, 190, 44, 88, 114, 181, 51, 44, 92, 183, 156, 100, 212, 50, 214, 63, 67, 60, 51, 66, 80, 51, 135, 295, 55, 113, 37, 99, 108, 79, 60, 44, 23, 200, 48, 42, 91, 86, 57, 264, 53, 94, 69, 243, 57, 80, 40, 80, 156, 242, 70, 80, 42, 41, 53, 69, 125, 134, 171, 143, 61, 53, 46, 83, 288, 119, 188, 63, 51, 46, 60, 81, 60, 81, 294, 167, 182, 122, 106, 76, 52, 56, 260, 140, 43, 294, 35, 62, 96, 67, 128, 65, 53, 275, 111, 227, 204, 124, 67, 83, 83, 109, 176, 93, 139, 105, 35, 221, 32, 150, 193, 41, 127, 245, 81, 84, 75, 45, 40, 157, 41, 87, 34, 58, 39, 100, 153, 93, 50, 50, 79, 102, 62, 67, 129, 56, 64, 291, 196, 80, 124, 29, 144, 170, 146, 55, 104, 114, 57, 57, 110, 133, 40, 277, 106, 114, 168, 125, 73, 80, 122, 53, 105, 108, 165, 61, 87, 54, 37, 258, 38, 48, 228, 77, 92, 76, 207, 154, 81, 143, 151, 52, 47, 172, 143, 162, 32, 204, 91, 121, 33, 52, 55, 56, 48, 74, 96, 31, 33, 207, 50, 273, 93, 42, 194, 95, 59, 81, 53, 177, 240, 53, 191, 74, 56, 137, 81, 64, 85, 187, 91, 239, 141, 197, 40, 45, 77, 55, 34, 53, 138, 107, 116, 96, 80, 111, 84, 46, 45, 67, 79, 93, 141, 72, 259, 156, 222, 169, 207, 93, 217, 106, 65, 49, 36, 77, 67, 136, 226, 61, 55, 110, 50, 166, 122, 43, 133, 87, 127, 172, 115, 60, 117, 53, 63, 59, 82, 246, 50, 33, 57, 227, 105, 159, 45, 225, 48, 156, 222, 83, 153, 127, 125, 116, 207, 23, 184, 127, 243, 61, 49, 174, 258, 44, 160, 81, 87, 87, 92, 55, 152, 289, 79, 65, 41, 51, 45, 228, 219, 185, 123, 116, 69, 53, 51, 43, 205, 158, 62, 57, 209, 58, 84, 54, 140, 45, 206, 181, 46, 176, 104, 77, 46, 117, 98, 38, 102, 54, 70, 92, 264, 65, 145, 127, 116, 290, 51, 85, 117, 41, 288, 206, 207, 93, 257, 249, 196, 95, 159, 68, 93, 278, 30, 15, 194, 217, 49, 171, 125, 288, 234, 63, 69, 97, 130, 63, 80, 299, 128, 72, 76, 85, 183, 181, 94, 80, 35, 47, 69, 168, 274, 156, 74, 119, 182, 63, 44, 34, 44, 262, 154, 292, 174, 60, 226, 41, 97, 38, 55, 59, 52, 63, 147, 191, 32, 57, 180, 71, 161, 52, 106, 90, 54, 299, 38, 75, 40, 199, 112, 200, 57, 298, 182, 140, 278, 62, 157, 52, 98, 40, 138, 60, 48, 254, 132, 54, 125, 52, 120, 220, 115, 120, 49, 105, 263, 281, 53, 36, 66, 39, 172, 172, 61, 100, 133, 249, 158, 134, 198, 90, 130, 41, 97, 65, 114, 160, 60, 276, 90, 121, 142, 43, 48, 68, 94, 103, 118, 50, 93, 51, 33, 62, 225, 72, 117, 68, 60, 161, 61, 60, 179, 143, 171, 249, 80, 125, 220, 194, 85, 69, 88, 121, 203, 64, 177, 207, 40, 63, 61, 274, 52, 41, 91, 39, 244, 275, 78, 181, 245, 128, 117, 14, 49, 39, 110, 49, 292, 164, 116, 215, 188, 173, 70, 61, 60, 61, 45, 110, 46, 62, 30, 168, 33, 285, 83, 222, 151, 24, 120, 233, 211, 191, 72, 84, 52, 73, 185, 131, 87, 158, 259, 105, 203, 63, 33, 55, 49, 143, 35, 250, 40, 241, 95, 79, 57, 208, 103, 69, 35, 269, 38, 59, 287, 44, 47, 31, 275, 42, 68, 80, 223, 49, 156, 123, 224, 136, 56, 101, 76, 50, 128, 153, 291, 171, 232, 140, 108, 129, 89, 49, 99, 150, 62, 25, 135, 180, 45, 187, 29, 67, 105, 45, 41, 154, 61, 39, 82, 192, 31, 63, 81, 128, 96, 121, 99, 33, 111, 70, 179, 225, 69, 63, 140, 222, 158, 156, 69, 109, 99, 102, 202, 134, 53, 290, 94, 152, 76, 81, 105, 98, 61, 191, 49, 48, 86, 86, 37, 111, 90, 41, 99, 296, 84, 45, 115, 112, 228, 167, 175, 237, 61, 232, 44, 287, 88, 111, 89, 237, 98, 91, 55, 30, 174, 153, 65, 46, 92, 50, 87, 285, 59, 45, 59, 109, 83, 38, 30, 58, 51, 93, 39, 207, 62, 68, 100, 47, 108, 41, 84, 58, 96, 49, 53, 274, 35, 62, 80, 52, 189, 131, 106, 118, 137, 147, 105, 49, 44, 64, 76, 179, 59, 114, 193, 107, 52, 32, 45, 174, 48, 46, 26, 123, 45, 47, 68, 103, 147, 60, 192, 45, 51, 188, 55, 46, 102, 63, 222, 118, 74, 73, 179, 46, 46, 126, 179, 112, 32, 48, 129, 67, 45, 122, 276, 163, 198, 118, 299, 54, 150, 287, 53, 270, 171, 202, 207, 92, 38, 125, 147, 113, 45, 171, 131, 63, 240, 194, 72, 96, 57, 62, 279, 221, 99, 52, 300, 89, 70, 79, 85, 44, 112, 49, 100, 217, 246, 121, 133, 146, 171, 119, 196, 45, 47, 161, 50, 152, 132, 50, 143, 129, 92, 50, 80, 84, 67, 51, 61, 166, 58, 156, 111, 36, 49, 52, 72, 67, 250, 197, 75, 254, 48, 36, 49, 123, 293, 49, 139, 134, 61, 70, 99, 80, 167, 30, 121, 42, 165, 122, 226, 195, 114, 266, 98, 93, 58, 73, 53, 48, 117, 162, 38, 136, 67, 174, 92, 60, 45, 99, 167, 179, 139, 71, 50, 56, 110, 72, 33, 89, 56, 40, 154, 93, 57, 74, 155, 87, 88, 59, 129, 57, 49, 62, 213, 47, 68, 97, 52, 249, 84, 36, 243, 87, 109, 41, 115, 102, 126, 80, 145, 117, 152, 120, 112, 170, 80, 118, 40, 156, 36, 77, 51, 93, 234, 43, 105, 43, 97, 68, 86, 70, 291, 95, 163, 108, 82, 35, 179, 68, 64, 55, 154, 67, 49, 73, 201, 127, 291, 55, 83, 230, 135, 85, 42, 47, 46, 106, 105, 195, 137, 46, 83, 88, 207, 70, 82, 41, 129, 123, 74, 126, 49, 71, 59, 60, 82, 218, 32, 66, 128, 126, 78, 301, 192, 138, 47, 160, 44, 143, 119, 89, 39, 61, 51, 72, 119, 32, 205, 188, 138, 71, 168, 54, 268, 72, 214, 87, 210, 151, 59, 232, 205, 26, 141, 76, 45, 82, 56, 299, 55, 49, 57, 79, 45, 113, 142, 60, 103, 151, 24, 96, 186, 286, 58, 235, 35, 54, 164, 52, 71, 105, 89, 77, 125, 197, 148, 51, 128, 51, 112, 91, 70, 245, 75, 86, 119, 52, 148, 235, 78, 207, 130, 114, 53, 53, 136, 92, 132, 129, 89, 49, 288, 98, 106, 44, 142, 42, 155, 129, 223, 51, 112, 111, 64, 101, 114, 183, 48, 83, 56, 75, 162, 58, 46, 47, 125, 243, 73, 216, 132, 247, 66, 199, 72, 60, 25, 68, 194, 96, 135, 188, 43, 189, 200, 263, 96, 50, 49, 91, 215, 97, 148, 216, 160, 189, 68, 197, 149, 88, 201, 253, 73, 107, 271, 49, 66, 42, 139, 43, 52, 121, 137, 157, 115, 39, 50, 206, 67, 79, 175, 94, 55, 60, 295, 112, 60, 167, 179, 44, 61, 113, 56, 178, 64, 145, 57, 81, 136, 60, 39, 35, 112, 55, 63, 67, 112, 70, 184, 69, 100, 66, 80, 105, 56, 66, 72, 73, 83, 63, 63, 171, 75, 60, 100, 41, 247, 47, 87, 47, 103, 187, 194, 54, 75, 54, 153, 219, 139, 244, 63, 75, 39, 292, 201, 100, 157, 222, 153, 91, 50, 56, 190, 28, 63, 90, 66, 48, 226, 51, 145, 244, 133, 164, 196, 20, 65, 269, 175, 58, 151, 72, 36, 45, 66, 107, 154, 280, 193, 56, 65, 193, 98, 283, 179, 151, 290, 226, 60, 57, 125, 74, 197, 167, 76, 53, 74, 262, 158, 64, 131, 189, 145, 55, 230, 162, 169, 135, 38, 127, 119, 79, 187, 138, 58, 43, 152, 75, 29, 77, 104, 103, 91, 274, 165, 36, 27, 107, 36, 115, 172, 259, 132, 55, 76, 67, 108, 214, 118, 207, 67, 38, 24, 52, 64, 59, 249, 64, 86, 62, 108, 65, 123, 129, 156, 23, 68, 47, 31, 142, 163, 40, 138, 54, 107, 150, 138, 48, 149, 121, 65, 127, 56, 241, 86, 59, 73, 228, 155, 171, 49, 125, 164, 95, 34, 135, 187, 92, 35, 49, 250, 63, 114, 81, 76, 250, 144, 45, 95, 77, 37, 135, 101, 222, 70, 189, 90, 43, 47, 113, 45, 117, 253, 208, 256, 40, 113, 122, 42, 85, 203, 30, 76, 29, 124, 70, 73, 176, 87, 128, 66, 40, 289, 120, 44, 82, 104, 48, 169, 131, 91, 47, 90, 189, 133, 153, 78, 34, 238, 28, 160, 89, 247, 39, 136, 94, 199, 95, 61, 61, 275, 48, 36, 211, 63, 169, 96, 139, 115, 169, 84, 87, 114, 99, 45, 47, 39, 69, 33, 61, 32, 154, 51, 78, 121, 53, 236, 264, 70, 98, 233, 169, 111, 38, 149, 59, 159, 138, 30, 99, 126, 25, 174, 60, 134, 256, 208, 42, 110, 297, 88, 292, 63, 70, 147, 139, 47, 186, 40, 280, 143, 248, 60, 84, 49, 231, 42, 226, 143, 91, 156, 146, 87, 141, 54, 80, 93, 173, 112, 151, 126, 101, 131, 82, 46, 62, 110, 43, 87, 167, 300, 154, 51, 57, 63, 237, 43, 219, 162, 279, 97, 143, 204, 43, 55, 99, 213, 252, 47, 85, 51, 42, 66, 43, 240, 211, 45, 80, 88, 81, 175, 51, 176, 116, 34, 293, 50, 56, 49, 176, 232, 157, 48, 71, 52, 287, 221, 52, 161, 118, 60, 65, 44, 91, 75, 51, 63, 126, 59, 87, 37, 143, 68, 151, 117, 77, 120, 31, 150, 49, 112, 184, 32, 151, 68, 49, 238, 77, 125, 122, 51, 208, 137, 51, 177, 146, 63, 28, 271, 269, 54, 60, 122, 82, 210, 146, 211, 95, 152, 240, 74, 58, 33, 102, 163, 32, 227, 205, 268, 93, 183, 141, 50, 88, 285, 98, 94, 54, 131, 94, 114, 82, 189, 221, 61, 76, 63, 251, 48, 43, 197, 49, 50, 110, 66, 71, 49, 205, 128, 50, 208, 84, 57, 106, 256, 204, 259, 79, 60, 179, 41, 187, 76, 159, 163, 227, 213, 109, 81, 84, 58, 80, 60, 54, 70, 71, 128, 71, 94, 108, 40, 50, 110, 78, 99, 50, 99, 124, 65, 62, 81, 90, 64, 61, 59, 72, 98, 58, 248, 51, 65, 151, 62, 222, 55, 32, 36, 32, 111, 114, 121, 269, 73, 77, 286, 50, 248, 61, 71, 159, 51, 265, 148, 62, 49, 86, 44, 228, 70, 57, 98, 61, 72, 286, 78, 80, 94, 207, 105, 33, 66, 267, 94, 66, 187, 28, 128, 227, 48, 105, 156, 46, 136, 41, 152, 127, 60, 47, 99, 42, 103, 105, 111, 126, 135, 46, 234, 189, 91, 64, 183, 96, 67, 54, 43, 59, 129, 256, 186, 53, 156, 38, 134, 71, 72, 232, 121, 58, 183, 203, 117, 192, 105, 55, 231, 158, 197, 58, 126, 191, 252, 63, 210, 112, 67, 228, 141, 256, 145, 110, 255, 61, 94, 130, 64, 69, 209, 29, 60, 212, 259, 186, 82, 77, 197, 41, 58, 173, 178, 103, 64, 152, 69, 40, 106, 106, 118, 38, 136, 51, 120, 140, 75, 41, 55, 68, 44, 57, 100, 55, 123, 133, 70, 71, 183, 33, 139, 166, 52, 155, 52, 87, 89, 51, 287, 171, 167, 285, 41, 279, 112, 97, 114, 49, 168, 35, 71, 175, 151, 41, 82, 83, 121, 138, 53, 61, 90, 156, 48, 71, 131, 56, 75, 215, 195, 204, 144, 38, 91, 137, 76, 67, 86, 71, 115, 235, 141, 55, 44, 56, 223, 77, 59, 187, 85, 76, 230, 192, 294, 132, 65, 99, 89, 106, 114, 63, 66, 28, 91, 62, 47, 58, 28, 28, 74, 271, 37, 61, 42, 255, 153, 95, 38, 102, 94, 201, 71, 65, 79, 156, 36, 202, 69, 52, 58, 280, 246, 65, 90, 58, 90, 43, 117, 49, 142, 70, 151, 248, 47, 241, 176, 141, 55, 221, 41, 128, 178, 287, 295, 195, 179, 133, 125, 116, 74, 62, 76, 96, 61, 43, 31, 293, 229, 175, 49, 174, 73, 142, 92, 73, 38, 139, 153, 79, 67, 64, 201, 150, 111, 130, 34, 56, 37, 51, 116, 82, 118, 108, 162, 128, 78, 34, 151, 165, 50, 98, 229, 183, 238, 191, 105, 97, 206, 173, 277, 102, 295, 166, 71, 98, 260, 223, 64, 97, 48, 54, 45, 29, 132, 94, 72, 158, 146, 86, 274, 105, 77, 133, 58, 97, 48, 259, 57, 68, 127, 41, 31, 162, 77, 225, 59, 76, 146, 196, 55, 298, 35, 147, 164, 215, 44, 166, 45, 190, 49, 107, 79, 134, 273, 245, 46, 127, 54, 25, 67, 49, 182, 232, 241, 69, 125, 36, 193, 33, 249, 291, 299, 183, 156, 69, 58, 49, 37, 99, 46, 48, 293, 226, 47, 56, 160, 223, 101, 177, 46, 56, 52, 69, 159, 200, 258, 245, 39, 87, 103, 85, 42, 56, 44, 87, 227, 94, 252, 33, 70, 39, 62, 106, 184, 45, 218, 112, 110, 39, 198, 110, 52, 150, 101, 106, 36, 87, 47, 71, 104, 29, 196, 70, 69, 159, 42, 134, 57, 31, 106, 60, 59, 128, 45, 44, 32, 286, 86, 207, 65, 187, 155, 78, 198, 55, 229, 225, 72, 116, 111, 221, 74, 86, 84, 60, 264, 69, 112, 59, 39, 229, 68, 63, 165, 83, 200, 122, 67, 60, 34, 184, 43, 99, 56, 199, 247, 27, 89, 180, 36, 36, 67, 290, 53, 75, 104, 85, 138, 38, 142, 198, 33, 225, 57, 37, 46, 191, 36, 163, 40, 39, 109, 140, 216, 89, 101, 252, 206, 127, 47, 52, 137, 198, 153, 122, 200, 32, 128, 77, 258, 196, 172, 53, 107, 113, 116, 95, 98, 61, 36, 92, 125, 71, 276, 39, 193, 155, 134, 191, 64, 148, 84, 103, 237, 34, 189, 169, 91, 205, 66, 52, 69, 194, 270, 48, 125, 166, 80, 132, 186, 48, 157, 31, 280, 65, 47, 61, 45, 56, 61, 141, 188, 140, 55, 135, 240, 258, 162, 240, 63, 113, 55, 173, 168, 153, 144, 81, 104, 287, 41, 48, 114, 246, 52, 110, 53, 201, 297, 72, 53, 62, 48, 219, 54, 116, 40, 35, 108, 195, 70, 56, 53, 72, 22, 133, 173, 114, 61, 122, 66, 69, 94, 75, 77, 52, 147, 53, 41, 221, 138, 150, 289, 107, 150, 244, 53, 90, 129, 28, 127, 82, 67, 209, 268, 61, 224, 255, 87, 76, 183, 34, 166, 75, 43, 36, 239, 222, 291, 34, 37, 150, 37, 165, 109, 178, 80, 28, 172, 102, 186, 195, 157, 104, 92, 58, 133, 90, 245, 99, 51, 59, 76, 204, 87, 291, 47, 158, 37, 156, 134, 274, 186, 49, 133, 60, 147, 178, 137, 146, 99, 57, 44, 59, 63, 38, 53, 123, 67, 74, 94, 57, 63, 59, 64, 271, 268, 71, 149, 90, 86, 273, 80, 268, 56, 281, 186, 163, 261, 86, 174, 147, 188, 96, 157, 125, 130, 21, 150, 47, 126, 130, 51, 32, 66, 120, 56, 291, 50, 174, 38, 44, 78, 68, 209, 136, 53, 188, 79, 78, 197, 174, 80, 45, 154, 44, 79, 48, 32, 192, 289, 277, 93, 107, 77, 280, 148, 67, 217, 57, 96, 184, 171, 69, 63, 145, 270, 50, 276, 54, 95, 117, 58, 110, 30, 48, 135, 107, 174, 64, 44, 92, 37, 119, 46, 84, 239, 270, 200, 157, 51, 90, 132, 36, 145, 53, 262, 252, 93, 272, 146, 184, 262, 59, 91, 76, 61, 67, 59, 238, 77, 158, 60, 62, 263, 40, 124, 52, 53, 39, 43, 264, 57, 143, 228, 132, 60, 146, 64, 58, 32, 50, 178, 68, 164, 59, 150, 133, 200, 150, 164, 36, 213, 43, 140, 176, 124, 39, 224, 116, 169, 260, 173, 97, 115, 237, 23, 47, 119, 130, 103, 118, 107, 63, 38, 49, 43, 110, 197, 50, 73, 207, 165, 173, 127, 88, 35, 138, 43, 62, 63, 25, 185, 122, 64, 54, 171, 240, 189, 71, 170, 83, 192, 75, 91, 283, 53, 52, 71, 100, 72, 54, 264, 243, 75, 298, 56, 50, 55, 47, 131, 105, 55, 183, 65, 274, 271, 253, 29, 180, 68, 210, 32, 58, 127, 291, 105, 72, 48, 229, 38, 281, 138, 134, 239, 168, 252, 204, 104, 70, 166, 96, 255, 82, 86, 129, 40, 282, 153, 128, 120, 148, 44, 148, 132, 235, 95, 91, 152, 56, 65, 261, 214, 256, 176, 106, 181, 83, 109, 279, 71, 29, 215, 201, 94, 56, 179, 296, 91, 131, 191, 48, 82, 274, 202, 39, 185, 101, 113, 31, 89, 50, 240, 56, 60, 111, 50, 290, 64, 102, 32, 87, 111, 101, 110, 178, 43, 62, 64, 42, 108, 134, 33, 45, 88, 53, 151, 44, 38, 208, 175, 291, 56, 66, 197, 153, 49, 279, 199, 93, 56, 171, 150, 130, 77, 45, 43, 48, 83, 44, 58, 300], \"xaxis\": \"x\", \"yaxis\": \"y\"}],\n",
              "                        {\"barmode\": \"relative\", \"legend\": {\"tracegroupgap\": 0}, \"margin\": {\"t\": 60}, \"template\": {\"data\": {\"bar\": [{\"error_x\": {\"color\": \"#2a3f5f\"}, \"error_y\": {\"color\": \"#2a3f5f\"}, \"marker\": {\"line\": {\"color\": \"#E5ECF6\", \"width\": 0.5}}, \"type\": \"bar\"}], \"barpolar\": [{\"marker\": {\"line\": {\"color\": \"#E5ECF6\", \"width\": 0.5}}, \"type\": \"barpolar\"}], \"carpet\": [{\"aaxis\": {\"endlinecolor\": \"#2a3f5f\", \"gridcolor\": \"white\", \"linecolor\": \"white\", \"minorgridcolor\": \"white\", \"startlinecolor\": \"#2a3f5f\"}, \"baxis\": {\"endlinecolor\": \"#2a3f5f\", \"gridcolor\": \"white\", \"linecolor\": \"white\", \"minorgridcolor\": \"white\", \"startlinecolor\": \"#2a3f5f\"}, \"type\": \"carpet\"}], \"choropleth\": [{\"colorbar\": {\"outlinewidth\": 0, \"ticks\": \"\"}, \"type\": \"choropleth\"}], \"contour\": [{\"colorbar\": {\"outlinewidth\": 0, \"ticks\": \"\"}, \"colorscale\": [[0.0, \"#0d0887\"], [0.1111111111111111, \"#46039f\"], [0.2222222222222222, \"#7201a8\"], [0.3333333333333333, \"#9c179e\"], [0.4444444444444444, \"#bd3786\"], [0.5555555555555556, \"#d8576b\"], [0.6666666666666666, \"#ed7953\"], [0.7777777777777778, \"#fb9f3a\"], [0.8888888888888888, \"#fdca26\"], [1.0, \"#f0f921\"]], \"type\": \"contour\"}], \"contourcarpet\": [{\"colorbar\": {\"outlinewidth\": 0, \"ticks\": \"\"}, \"type\": \"contourcarpet\"}], \"heatmap\": [{\"colorbar\": {\"outlinewidth\": 0, \"ticks\": \"\"}, \"colorscale\": [[0.0, \"#0d0887\"], [0.1111111111111111, \"#46039f\"], [0.2222222222222222, \"#7201a8\"], [0.3333333333333333, \"#9c179e\"], [0.4444444444444444, \"#bd3786\"], [0.5555555555555556, \"#d8576b\"], [0.6666666666666666, \"#ed7953\"], [0.7777777777777778, \"#fb9f3a\"], [0.8888888888888888, \"#fdca26\"], [1.0, \"#f0f921\"]], \"type\": \"heatmap\"}], \"heatmapgl\": [{\"colorbar\": {\"outlinewidth\": 0, \"ticks\": \"\"}, \"colorscale\": [[0.0, \"#0d0887\"], [0.1111111111111111, \"#46039f\"], [0.2222222222222222, \"#7201a8\"], [0.3333333333333333, \"#9c179e\"], [0.4444444444444444, \"#bd3786\"], [0.5555555555555556, \"#d8576b\"], [0.6666666666666666, \"#ed7953\"], [0.7777777777777778, \"#fb9f3a\"], [0.8888888888888888, \"#fdca26\"], [1.0, \"#f0f921\"]], \"type\": \"heatmapgl\"}], \"histogram\": [{\"marker\": {\"colorbar\": {\"outlinewidth\": 0, \"ticks\": \"\"}}, \"type\": \"histogram\"}], \"histogram2d\": [{\"colorbar\": {\"outlinewidth\": 0, \"ticks\": \"\"}, \"colorscale\": [[0.0, \"#0d0887\"], [0.1111111111111111, \"#46039f\"], [0.2222222222222222, \"#7201a8\"], [0.3333333333333333, \"#9c179e\"], [0.4444444444444444, \"#bd3786\"], [0.5555555555555556, \"#d8576b\"], [0.6666666666666666, \"#ed7953\"], [0.7777777777777778, \"#fb9f3a\"], [0.8888888888888888, \"#fdca26\"], [1.0, \"#f0f921\"]], \"type\": \"histogram2d\"}], \"histogram2dcontour\": [{\"colorbar\": {\"outlinewidth\": 0, \"ticks\": \"\"}, \"colorscale\": [[0.0, \"#0d0887\"], [0.1111111111111111, \"#46039f\"], [0.2222222222222222, \"#7201a8\"], [0.3333333333333333, \"#9c179e\"], [0.4444444444444444, \"#bd3786\"], [0.5555555555555556, \"#d8576b\"], [0.6666666666666666, \"#ed7953\"], [0.7777777777777778, \"#fb9f3a\"], [0.8888888888888888, \"#fdca26\"], [1.0, \"#f0f921\"]], \"type\": \"histogram2dcontour\"}], \"mesh3d\": [{\"colorbar\": {\"outlinewidth\": 0, \"ticks\": \"\"}, \"type\": \"mesh3d\"}], \"parcoords\": [{\"line\": {\"colorbar\": {\"outlinewidth\": 0, \"ticks\": \"\"}}, \"type\": \"parcoords\"}], \"pie\": [{\"automargin\": true, \"type\": \"pie\"}], \"scatter\": [{\"marker\": {\"colorbar\": {\"outlinewidth\": 0, \"ticks\": \"\"}}, \"type\": \"scatter\"}], \"scatter3d\": [{\"line\": {\"colorbar\": {\"outlinewidth\": 0, \"ticks\": \"\"}}, \"marker\": {\"colorbar\": {\"outlinewidth\": 0, \"ticks\": \"\"}}, \"type\": \"scatter3d\"}], \"scattercarpet\": [{\"marker\": {\"colorbar\": {\"outlinewidth\": 0, \"ticks\": \"\"}}, \"type\": \"scattercarpet\"}], \"scattergeo\": [{\"marker\": {\"colorbar\": {\"outlinewidth\": 0, \"ticks\": \"\"}}, \"type\": \"scattergeo\"}], \"scattergl\": [{\"marker\": {\"colorbar\": {\"outlinewidth\": 0, \"ticks\": \"\"}}, \"type\": \"scattergl\"}], \"scattermapbox\": [{\"marker\": {\"colorbar\": {\"outlinewidth\": 0, \"ticks\": \"\"}}, \"type\": \"scattermapbox\"}], \"scatterpolar\": [{\"marker\": {\"colorbar\": {\"outlinewidth\": 0, \"ticks\": \"\"}}, \"type\": \"scatterpolar\"}], \"scatterpolargl\": [{\"marker\": {\"colorbar\": {\"outlinewidth\": 0, \"ticks\": \"\"}}, \"type\": \"scatterpolargl\"}], \"scatterternary\": [{\"marker\": {\"colorbar\": {\"outlinewidth\": 0, \"ticks\": \"\"}}, \"type\": \"scatterternary\"}], \"surface\": [{\"colorbar\": {\"outlinewidth\": 0, \"ticks\": \"\"}, \"colorscale\": [[0.0, \"#0d0887\"], [0.1111111111111111, \"#46039f\"], [0.2222222222222222, \"#7201a8\"], [0.3333333333333333, \"#9c179e\"], [0.4444444444444444, \"#bd3786\"], [0.5555555555555556, \"#d8576b\"], [0.6666666666666666, \"#ed7953\"], [0.7777777777777778, \"#fb9f3a\"], [0.8888888888888888, \"#fdca26\"], [1.0, \"#f0f921\"]], \"type\": \"surface\"}], \"table\": [{\"cells\": {\"fill\": {\"color\": \"#EBF0F8\"}, \"line\": {\"color\": \"white\"}}, \"header\": {\"fill\": {\"color\": \"#C8D4E3\"}, \"line\": {\"color\": \"white\"}}, \"type\": \"table\"}]}, \"layout\": {\"annotationdefaults\": {\"arrowcolor\": \"#2a3f5f\", \"arrowhead\": 0, \"arrowwidth\": 1}, \"coloraxis\": {\"colorbar\": {\"outlinewidth\": 0, \"ticks\": \"\"}}, \"colorscale\": {\"diverging\": [[0, \"#8e0152\"], [0.1, \"#c51b7d\"], [0.2, \"#de77ae\"], [0.3, \"#f1b6da\"], [0.4, \"#fde0ef\"], [0.5, \"#f7f7f7\"], [0.6, \"#e6f5d0\"], [0.7, \"#b8e186\"], [0.8, \"#7fbc41\"], [0.9, \"#4d9221\"], [1, \"#276419\"]], \"sequential\": [[0.0, \"#0d0887\"], [0.1111111111111111, \"#46039f\"], [0.2222222222222222, \"#7201a8\"], [0.3333333333333333, \"#9c179e\"], [0.4444444444444444, \"#bd3786\"], [0.5555555555555556, \"#d8576b\"], [0.6666666666666666, \"#ed7953\"], [0.7777777777777778, \"#fb9f3a\"], [0.8888888888888888, \"#fdca26\"], [1.0, \"#f0f921\"]], \"sequentialminus\": [[0.0, \"#0d0887\"], [0.1111111111111111, \"#46039f\"], [0.2222222222222222, \"#7201a8\"], [0.3333333333333333, \"#9c179e\"], [0.4444444444444444, \"#bd3786\"], [0.5555555555555556, \"#d8576b\"], [0.6666666666666666, \"#ed7953\"], [0.7777777777777778, \"#fb9f3a\"], [0.8888888888888888, \"#fdca26\"], [1.0, \"#f0f921\"]]}, \"colorway\": [\"#636efa\", \"#EF553B\", \"#00cc96\", \"#ab63fa\", \"#FFA15A\", \"#19d3f3\", \"#FF6692\", \"#B6E880\", \"#FF97FF\", \"#FECB52\"], \"font\": {\"color\": \"#2a3f5f\"}, \"geo\": {\"bgcolor\": \"white\", \"lakecolor\": \"white\", \"landcolor\": \"#E5ECF6\", \"showlakes\": true, \"showland\": true, \"subunitcolor\": \"white\"}, \"hoverlabel\": {\"align\": \"left\"}, \"hovermode\": \"closest\", \"mapbox\": {\"style\": \"light\"}, \"paper_bgcolor\": \"white\", \"plot_bgcolor\": \"#E5ECF6\", \"polar\": {\"angularaxis\": {\"gridcolor\": \"white\", \"linecolor\": \"white\", \"ticks\": \"\"}, \"bgcolor\": \"#E5ECF6\", \"radialaxis\": {\"gridcolor\": \"white\", \"linecolor\": \"white\", \"ticks\": \"\"}}, \"scene\": {\"xaxis\": {\"backgroundcolor\": \"#E5ECF6\", \"gridcolor\": \"white\", \"gridwidth\": 2, \"linecolor\": \"white\", \"showbackground\": true, \"ticks\": \"\", \"zerolinecolor\": \"white\"}, \"yaxis\": {\"backgroundcolor\": \"#E5ECF6\", \"gridcolor\": \"white\", \"gridwidth\": 2, \"linecolor\": \"white\", \"showbackground\": true, \"ticks\": \"\", \"zerolinecolor\": \"white\"}, \"zaxis\": {\"backgroundcolor\": \"#E5ECF6\", \"gridcolor\": \"white\", \"gridwidth\": 2, \"linecolor\": \"white\", \"showbackground\": true, \"ticks\": \"\", \"zerolinecolor\": \"white\"}}, \"shapedefaults\": {\"line\": {\"color\": \"#2a3f5f\"}}, \"ternary\": {\"aaxis\": {\"gridcolor\": \"white\", \"linecolor\": \"white\", \"ticks\": \"\"}, \"baxis\": {\"gridcolor\": \"white\", \"linecolor\": \"white\", \"ticks\": \"\"}, \"bgcolor\": \"#E5ECF6\", \"caxis\": {\"gridcolor\": \"white\", \"linecolor\": \"white\", \"ticks\": \"\"}}, \"title\": {\"x\": 0.05}, \"xaxis\": {\"automargin\": true, \"gridcolor\": \"white\", \"linecolor\": \"white\", \"ticks\": \"\", \"title\": {\"standoff\": 15}, \"zerolinecolor\": \"white\", \"zerolinewidth\": 2}, \"yaxis\": {\"automargin\": true, \"gridcolor\": \"white\", \"linecolor\": \"white\", \"ticks\": \"\", \"title\": {\"standoff\": 15}, \"zerolinecolor\": \"white\", \"zerolinewidth\": 2}}}, \"xaxis\": {\"anchor\": \"y\", \"domain\": [0.0, 1.0], \"title\": {\"text\": \"x\"}}, \"yaxis\": {\"anchor\": \"x\", \"domain\": [0.0, 1.0], \"title\": {\"text\": \"count\"}}},\n",
              "                        {\"responsive\": true}\n",
              "                    ).then(function(){\n",
              "                            \n",
              "var gd = document.getElementById('da1464ef-c4d3-4eef-ab82-3058493bf7b9');\n",
              "var x = new MutationObserver(function (mutations, observer) {{\n",
              "        var display = window.getComputedStyle(gd).display;\n",
              "        if (!display || display === 'none') {{\n",
              "            console.log([gd, 'removed!']);\n",
              "            Plotly.purge(gd);\n",
              "            observer.disconnect();\n",
              "        }}\n",
              "}});\n",
              "\n",
              "// Listen for the removal of the full notebook cells\n",
              "var notebookContainer = gd.closest('#notebook-container');\n",
              "if (notebookContainer) {{\n",
              "    x.observe(notebookContainer, {childList: true});\n",
              "}}\n",
              "\n",
              "// Listen for the clearing of the current output cell\n",
              "var outputEl = gd.closest('.output');\n",
              "if (outputEl) {{\n",
              "    x.observe(outputEl, {childList: true});\n",
              "}}\n",
              "\n",
              "                        })\n",
              "                };\n",
              "                \n",
              "            </script>\n",
              "        </div>\n",
              "</body>\n",
              "</html>"
            ]
          },
          "metadata": {
            "tags": []
          }
        },
        {
          "output_type": "display_data",
          "data": {
            "text/plain": [
              "<Figure size 864x864 with 0 Axes>"
            ]
          },
          "metadata": {
            "tags": []
          }
        }
      ]
    },
    {
      "cell_type": "code",
      "metadata": {
        "colab": {
          "base_uri": "https://localhost:8080/",
          "height": 297
        },
        "id": "mCxsmXp0BCka",
        "outputId": "a076cf26-27a9-4cc7-8137-597cd85d0955"
      },
      "source": [
        "# the below boxplot shows that as text length increase for news 'title', rating also increase, which means text length play important role to predict rating\n",
        "sns.boxplot(x='up_votes',y='text length',data=df,palette='rainbow')"
      ],
      "execution_count": 319,
      "outputs": [
        {
          "output_type": "execute_result",
          "data": {
            "text/plain": [
              "<matplotlib.axes._subplots.AxesSubplot at 0x7f9dfb1c2890>"
            ]
          },
          "metadata": {
            "tags": []
          },
          "execution_count": 319
        },
        {
          "output_type": "display_data",
          "data": {
            "image/png": "[encoded data removed]",
            "text/plain": [
              "<Figure size 432x288 with 1 Axes>"
            ]
          },
          "metadata": {
            "tags": [],
            "needs_background": "light"
          }
        }
      ]
    },
    {
      "cell_type": "code",
      "metadata": {
        "colab": {
          "base_uri": "https://localhost:8080/",
          "height": 235
        },
        "id": "jIoO8GziCExO",
        "outputId": "2d20c56c-3505-471d-b543-2630b0404190"
      },
      "source": [
        "# the below table shows that as text length increase for news 'title', rating also increase, which means text length play important role to predict rating\n",
        "df.groupby('up_votes').mean()"
      ],
      "execution_count": 320,
      "outputs": [
        {
          "output_type": "execute_result",
          "data": {
            "text/html": [
              "<div>\n",
              "<style scoped>\n",
              "    .dataframe tbody tr th:only-of-type {\n",
              "        vertical-align: middle;\n",
              "    }\n",
              "\n",
              "    .dataframe tbody tr th {\n",
              "        vertical-align: top;\n",
              "    }\n",
              "\n",
              "    .dataframe thead th {\n",
              "        text-align: right;\n",
              "    }\n",
              "</style>\n",
              "<table border=\"1\" class=\"dataframe\">\n",
              "  <thead>\n",
              "    <tr style=\"text-align: right;\">\n",
              "      <th></th>\n",
              "      <th>time_created</th>\n",
              "      <th>text length</th>\n",
              "    </tr>\n",
              "    <tr>\n",
              "      <th>up_votes</th>\n",
              "      <th></th>\n",
              "      <th></th>\n",
              "    </tr>\n",
              "  </thead>\n",
              "  <tbody>\n",
              "    <tr>\n",
              "      <th>1</th>\n",
              "      <td>1.267074e+09</td>\n",
              "      <td>92.786000</td>\n",
              "    </tr>\n",
              "    <tr>\n",
              "      <th>2</th>\n",
              "      <td>1.273097e+09</td>\n",
              "      <td>102.927714</td>\n",
              "    </tr>\n",
              "    <tr>\n",
              "      <th>3</th>\n",
              "      <td>1.287157e+09</td>\n",
              "      <td>110.546286</td>\n",
              "    </tr>\n",
              "    <tr>\n",
              "      <th>4</th>\n",
              "      <td>1.294113e+09</td>\n",
              "      <td>114.798857</td>\n",
              "    </tr>\n",
              "    <tr>\n",
              "      <th>5</th>\n",
              "      <td>1.305043e+09</td>\n",
              "      <td>123.980857</td>\n",
              "    </tr>\n",
              "  </tbody>\n",
              "</table>\n",
              "</div>"
            ],
            "text/plain": [
              "          time_created  text length\n",
              "up_votes                           \n",
              "1         1.267074e+09    92.786000\n",
              "2         1.273097e+09   102.927714\n",
              "3         1.287157e+09   110.546286\n",
              "4         1.294113e+09   114.798857\n",
              "5         1.305043e+09   123.980857"
            ]
          },
          "metadata": {
            "tags": []
          },
          "execution_count": 320
        }
      ]
    },
    {
      "cell_type": "markdown",
      "metadata": {
        "id": "-kcbQDeeaGNQ"
      },
      "source": [
        "#NLP text preprocessing"
      ]
    },
    {
      "cell_type": "code",
      "metadata": {
        "id": "T5XIu23BJSum"
      },
      "source": [
        "def text_process(mess):\n",
        "    \"\"\"\n",
        "    Takes in a string of text, then performs the following:\n",
        "    1. Remove all punctuation\n",
        "    2. Remove all stopwords\n",
        "    3. Returns a list of the cleaned text\n",
        "    \"\"\"\n",
        "    # Check characters to see if they are in punctuation\n",
        "    nopunc = [char for char in mess if char not in string.punctuation]\n",
        "\n",
        "    # Join the characters again to form the string.\n",
        "    nopunc = ''.join(nopunc)\n",
        "    \n",
        "    # Now just remove any stopwords\n",
        "    return [word for word in nopunc.split() if word.lower() not in stopwords.words('english')]\n",
        "    "
      ],
      "execution_count": 321,
      "outputs": []
    },
    {
      "cell_type": "code",
      "metadata": {
        "colab": {
          "base_uri": "https://localhost:8080/"
        },
        "id": "0M3RLMDBmqHL",
        "outputId": "1fd0f6cf-62a4-4251-f1e2-f3993d4c025d"
      },
      "source": [
        "# Might take awhile...\n",
        "bow_transformer = CountVectorizer(analyzer=text_process).fit(df['title'])\n",
        "\n",
        "# Print total number of vocab words in column 'title'\n",
        "print(len(bow_transformer.vocabulary_))"
      ],
      "execution_count": 322,
      "outputs": [
        {
          "output_type": "stream",
          "text": [
            "30067\n"
          ],
          "name": "stdout"
        }
      ]
    },
    {
      "cell_type": "code",
      "metadata": {
        "id": "syac-1zglW6e"
      },
      "source": [
        "text_bow = bow_transformer.transform(df['title'])"
      ],
      "execution_count": 323,
      "outputs": []
    },
    {
      "cell_type": "code",
      "metadata": {
        "id": "oJtUi63ClmOI"
      },
      "source": [
        "tfidf_transformer = TfidfTransformer().fit(text_bow)"
      ],
      "execution_count": 324,
      "outputs": []
    },
    {
      "cell_type": "code",
      "metadata": {
        "colab": {
          "base_uri": "https://localhost:8080/"
        },
        "id": "-UIzskYJll_R",
        "outputId": "81c364ef-095f-42f2-fe15-8904c88c6c3b"
      },
      "source": [
        "text_tfidf = tfidf_transformer.transform(text_bow)\n",
        "print(text_tfidf.shape)"
      ],
      "execution_count": 325,
      "outputs": [
        {
          "output_type": "stream",
          "text": [
            "(17500, 30067)\n"
          ],
          "name": "stdout"
        }
      ]
    },
    {
      "cell_type": "markdown",
      "metadata": {
        "id": "ifwyi6OkZ-u_"
      },
      "source": [
        "#Buidling and Running Model"
      ]
    },
    {
      "cell_type": "code",
      "metadata": {
        "id": "lG8hC17PlyZK"
      },
      "source": [
        "stock_prediction_model = MultinomialNB().fit(text_tfidf, df['up_votes'])"
      ],
      "execution_count": 326,
      "outputs": []
    },
    {
      "cell_type": "code",
      "metadata": {
        "colab": {
          "base_uri": "https://localhost:8080/"
        },
        "id": "PWwBls6YlyVy",
        "outputId": "e4ea0f1b-0b29-4af6-af30-fef1d6ca3d28"
      },
      "source": [
        "all_predictions = stock_prediction_model.predict(text_tfidf)\n",
        "print(all_predictions)"
      ],
      "execution_count": 327,
      "outputs": [
        {
          "output_type": "stream",
          "text": [
            "[4 2 1 ... 5 5 2]\n"
          ],
          "name": "stdout"
        }
      ]
    },
    {
      "cell_type": "markdown",
      "metadata": {
        "id": "NPcCfJKZZml4"
      },
      "source": [
        "#Evalution"
      ]
    },
    {
      "cell_type": "code",
      "metadata": {
        "colab": {
          "base_uri": "https://localhost:8080/"
        },
        "id": "ftGfhdDTye5K",
        "outputId": "34c4d212-b238-4014-cb2a-8c678364b172"
      },
      "source": [
        "print(classification_report(df['up_votes'], all_predictions))\n"
      ],
      "execution_count": 336,
      "outputs": [
        {
          "output_type": "stream",
          "text": [
            "              precision    recall  f1-score   support\n",
            "\n",
            "           1       0.85      0.77      0.81      3500\n",
            "           2       0.77      0.81      0.79      3500\n",
            "           3       0.81      0.78      0.79      3500\n",
            "           4       0.79      0.80      0.79      3500\n",
            "           5       0.76      0.83      0.79      3500\n",
            "\n",
            "    accuracy                           0.80     17500\n",
            "   macro avg       0.80      0.80      0.80     17500\n",
            "weighted avg       0.80      0.80      0.80     17500\n",
            "\n"
          ],
          "name": "stdout"
        }
      ]
    },
    {
      "cell_type": "markdown",
      "metadata": {
        "id": "a4KI1zenZZuG"
      },
      "source": [
        "#Deployment"
      ]
    },
    {
      "cell_type": "code",
      "metadata": {
        "colab": {
          "base_uri": "https://localhost:8080/"
        },
        "id": "PWUQgBFxpC52",
        "outputId": "38c49a7c-b7af-40c8-b292-54a8c66bf45f"
      },
      "source": [
        "#generate random number between 0 to 17500 (which is total number of data).\n",
        "i = random.randint(0,17500)\n",
        "print('random digit:',i)\n",
        "print(\"------------------------------------------------------------------------\")\n",
        "\n",
        "#take random number of title (text) for predicting the rating\n",
        "rand = df['title'].iloc[i]\n",
        "\n",
        "#preprocess the title and put in our created model to predict rating\n",
        "bow4 = bow_transformer.transform([rand])\n",
        "print(bow4)\n",
        "print(bow4.shape)\n",
        "print(\"------------------------------------------------------------------------\")\n",
        "tfidf4 = tfidf_transformer.transform(bow4)\n",
        "print(tfidf4)\n",
        "\n",
        "#result of prediction\n",
        "print(\"------------------------------------------------------------------------\")\n",
        "from termcolor import colored\n",
        "pre1 = stock_prediction_model.predict(tfidf4)[0]\n",
        "print(\"Predicted Rating For News: \",pre1)\n",
        "\n",
        "#check the actual value of rating for that predicted title\n",
        "print(\"------------------------------------------------------------------------\")\n",
        "pre3 = df['up_votes'].iloc[i]\n",
        "print(\"Actual Rating For News: \",pre3)"
      ],
      "execution_count": 329,
      "outputs": [
        {
          "output_type": "stream",
          "text": [
            "random digit: 1830\n",
            "------------------------------------------------------------------------\n",
            "  (0, 12125)\t1\n",
            "  (0, 12925)\t1\n",
            "  (0, 17118)\t1\n",
            "(1, 30067)\n",
            "------------------------------------------------------------------------\n",
            "  (0, 17118)\t0.5386330881647294\n",
            "  (0, 12925)\t0.7665062735441711\n",
            "  (0, 12125)\t0.3497749690180177\n",
            "------------------------------------------------------------------------\n",
            "Predicted Rating For News:  4\n",
            "------------------------------------------------------------------------\n",
            "Actual Rating For News:  4\n"
          ],
          "name": "stdout"
        }
      ]
    },
    {
      "cell_type": "code",
      "metadata": {
        "colab": {
          "base_uri": "https://localhost:8080/"
        },
        "id": "5jc_-ybcs7HR",
        "outputId": "411b10ff-8f9e-4229-b5a3-43d98fbd0215"
      },
      "source": [
        "\n",
        "print(\"----------Enter Random String to Predict Rating For News Title----------\")\n",
        "rand = input()\n",
        "print(\"------------------------------------------------------------------------\")\n",
        "\n",
        "\n",
        "#preprocess the string and put in our created model to predict rating\n",
        "bow4 = bow_transformer.transform([rand])\n",
        "print(bow4)\n",
        "print(bow4.shape)\n",
        "print(\"------------------------------------------------------------------------\")\n",
        "tfidf4 = tfidf_transformer.transform(bow4)\n",
        "print(tfidf4)\n",
        "\n",
        "#result of prediction\n",
        "print(\"------------------------------------------------------------------------\")\n",
        "from termcolor import colored\n",
        "pre1 = stock_prediction_model.predict(tfidf4)[0]\n",
        "print(\"Predicted Rating For News: \",pre1)\n"
      ],
      "execution_count": 331,
      "outputs": [
        {
          "output_type": "stream",
          "text": [
            "----------Enter Random String to Predict Rating For News Title----------\n",
            "# the below table shows that as text length increase for news 'title', rating also increase, which means text length play important role to predict rating\n",
            "------------------------------------------------------------------------\n",
            "  (0, 13572)\t1\n",
            "  (0, 20348)\t1\n",
            "  (0, 20437)\t2\n",
            "  (0, 21339)\t2\n",
            "  (0, 21905)\t1\n",
            "  (0, 22609)\t1\n",
            "  (0, 23736)\t1\n",
            "  (0, 24041)\t1\n",
            "  (0, 24707)\t2\n",
            "  (0, 25576)\t1\n",
            "  (0, 26322)\t1\n",
            "  (0, 27588)\t1\n",
            "  (0, 27827)\t2\n",
            "  (0, 28006)\t1\n",
            "(1, 30067)\n",
            "------------------------------------------------------------------------\n",
            "  (0, 28006)\t0.222449715990088\n",
            "  (0, 27827)\t0.3852389649458696\n",
            "  (0, 27588)\t0.2186304015009626\n",
            "  (0, 26322)\t0.15349791484448413\n",
            "  (0, 25576)\t0.16847330447532374\n",
            "  (0, 24707)\t0.4195864887164514\n",
            "  (0, 24041)\t0.2186304015009626\n",
            "  (0, 23736)\t0.19025802969766498\n",
            "  (0, 22609)\t0.14405519188946148\n",
            "  (0, 21905)\t0.17737733480604045\n",
            "  (0, 21339)\t0.444899431980176\n",
            "  (0, 20437)\t0.36682687521257973\n",
            "  (0, 20348)\t0.18428287773038082\n",
            "  (0, 13572)\t0.15375466844892452\n",
            "------------------------------------------------------------------------\n",
            "Predicted Rating For News:  5\n"
          ],
          "name": "stdout"
        }
      ]
    }
  ]
}